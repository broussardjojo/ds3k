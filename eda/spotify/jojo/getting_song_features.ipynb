{
 "cells": [
  {
   "cell_type": "code",
   "execution_count": 1,
   "metadata": {
    "collapsed": true
   },
   "outputs": [
    {
     "ename": "ModuleNotFoundError",
     "evalue": "No module named 'tekore'",
     "output_type": "error",
     "traceback": [
      "\u001B[1;31m---------------------------------------------------------------------------\u001B[0m",
      "\u001B[1;31mModuleNotFoundError\u001B[0m                       Traceback (most recent call last)",
      "Cell \u001B[1;32mIn [1], line 6\u001B[0m\n\u001B[0;32m      4\u001B[0m \u001B[38;5;28;01mimport\u001B[39;00m \u001B[38;5;21;01mspotipy\u001B[39;00m\u001B[38;5;21;01m.\u001B[39;00m\u001B[38;5;21;01mutil\u001B[39;00m \u001B[38;5;28;01mas\u001B[39;00m \u001B[38;5;21;01mutil\u001B[39;00m\n\u001B[0;32m      5\u001B[0m \u001B[38;5;28;01mfrom\u001B[39;00m \u001B[38;5;21;01mspotipy\u001B[39;00m \u001B[38;5;28;01mimport\u001B[39;00m SpotifyClientCredentials\n\u001B[1;32m----> 6\u001B[0m \u001B[38;5;28;01mfrom\u001B[39;00m \u001B[38;5;21;01meda\u001B[39;00m\u001B[38;5;21;01m.\u001B[39;00m\u001B[38;5;21;01mspotify\u001B[39;00m\u001B[38;5;21;01m.\u001B[39;00m\u001B[38;5;21;01mjojo\u001B[39;00m\u001B[38;5;21;01m.\u001B[39;00m\u001B[38;5;21;01mget_artist_to_uris\u001B[39;00m \u001B[38;5;28;01mimport\u001B[39;00m REPO_ROOT\n\u001B[0;32m      7\u001B[0m \u001B[38;5;28;01mimport\u001B[39;00m \u001B[38;5;21;01mapi_setup\u001B[39;00m\n\u001B[0;32m      8\u001B[0m \u001B[38;5;28;01mimport\u001B[39;00m \u001B[38;5;21;01mpandas\u001B[39;00m \u001B[38;5;28;01mas\u001B[39;00m \u001B[38;5;21;01mpd\u001B[39;00m\n",
      "File \u001B[1;32mC:\\School\\DS3000 Foundations\\Project\\ds3k\\eda\\spotify\\jojo\\get_artist_to_uris.py:6\u001B[0m\n\u001B[0;32m      3\u001B[0m \u001B[38;5;28;01mimport\u001B[39;00m \u001B[38;5;21;01mpathlib\u001B[39;00m\n\u001B[0;32m      4\u001B[0m \u001B[38;5;28;01mimport\u001B[39;00m \u001B[38;5;21;01mrequests\u001B[39;00m\n\u001B[1;32m----> 6\u001B[0m \u001B[38;5;28;01mimport\u001B[39;00m \u001B[38;5;21;01mtekore\u001B[39;00m \u001B[38;5;28;01mas\u001B[39;00m \u001B[38;5;21;01mtk\u001B[39;00m\n\u001B[0;32m      8\u001B[0m \u001B[38;5;28;01mimport\u001B[39;00m \u001B[38;5;21;01mapi_setup\u001B[39;00m\n\u001B[0;32m     10\u001B[0m CWD \u001B[38;5;241m=\u001B[39m pathlib\u001B[38;5;241m.\u001B[39mPath\u001B[38;5;241m.\u001B[39mcwd()\n",
      "\u001B[1;31mModuleNotFoundError\u001B[0m: No module named 'tekore'"
     ]
    }
   ],
   "source": [
    "import asyncio\n",
    "\n",
    "import spotipy\n",
    "import spotipy.util as util\n",
    "from spotipy import SpotifyClientCredentials\n",
    "from eda.spotify.jojo.get_artist_to_uris import REPO_ROOT\n",
    "import api_setup\n",
    "import pandas as pd\n",
    "from aiohttp import ClientSession\n",
    "import requests\n",
    "import base64\n",
    "import json"
   ]
  },
  {
   "cell_type": "code",
   "execution_count": 14,
   "outputs": [],
   "source": [
    "\n",
    "# API Auth\n",
    "env_vars = api_setup.parse_api_kvs(REPO_ROOT / \"api-keys\")\n",
    "auth_manager = SpotifyClientCredentials(env_vars['client_id'], env_vars['client_secret'])\n",
    "spotify = spotipy.Spotify(client_credentials_manager=auth_manager, backoff_factor=2)"
   ],
   "metadata": {
    "collapsed": false
   }
  },
  {
   "cell_type": "code",
   "execution_count": 15,
   "outputs": [
    {
     "data": {
      "text/plain": "array(['spotify:track:375h23169u0dcEho5hEkML',\n       'spotify:track:6FRqV0YP0tyazXOIxexjW5',\n       'spotify:track:4wYgevsnMVdxtHTSjboCJ7', ...,\n       'spotify:track:63Kl7faGbITZxkJGtO7MPT',\n       'spotify:track:7F8LoNeDRgItTcpTpYTmY3',\n       'spotify:track:5W1qeEGfh4SaUxniF9VKP6'], dtype=object)"
     },
     "execution_count": 15,
     "metadata": {},
     "output_type": "execute_result"
    }
   ],
   "source": [
    "# Load in data\n",
    "uri_df = pd.read_json(\"artist_track_to_uri.json\")\n",
    "uris = uri_df.uri.values\n",
    "uris"
   ],
   "metadata": {
    "collapsed": false
   }
  },
  {
   "cell_type": "code",
   "execution_count": 30,
   "outputs": [],
   "source": [
    "# async api calls\n",
    "async def get_audio_features(session: ClientSession, uri: str) -> dict:\n",
    "\t# Trim the input string - we don't want the 'spotify:track:` part\n",
    "\turi = uri[14:]\n",
    "\tendpoint = f\"https://api.spotify.com/v1/audio-features/{uri}\"\n",
    "\n",
    "\tasync with session.get(endpoint) as response:\n",
    "\t\tresponse = await(response.json())\n",
    "\t\treturn uri, response\n",
    "\n",
    "async def main(startindex: int=0, endindex: int=-1):\n",
    "\tcreds = f\"{env_vars['client_id']}:{env_vars['client_secret']}\"\n",
    "\tcreds_b64 = base64.b64encode(creds.encode())\n",
    "\theaders= {\"Authorization\": f\"Basic {creds_b64.decode()}\"}\n",
    "\tdata= {\"grant_type\": \"client_credentials\"}\n",
    "\ttoken = requests.post(\"https://accounts.spotify.com/api/token\", headers=headers, data=data)\n",
    "\ttoken = token.json()['access_token']\n",
    "\theaders = {\"Accept\": \"application/json\", \"Content-Type\": \"application/json\", \"Authorization\": f\"Bearer {token}\"}\n",
    "\tasync with ClientSession(headers=headers) as session:\n",
    "\t\tbatch_uris = uris[startindex:endindex]\n",
    "\t\ttasks = []\n",
    "\t\tfor uri in batch_uris:\n",
    "\t\t\ttask = asyncio.ensure_future(get_audio_features(session, uri))\n",
    "\t\t\ttasks.append(task)\n",
    "\n",
    "\t\tfeatures = await(asyncio.gather(*tasks))\n",
    "\treturn features\n",
    "\n",
    "features = await(main(0, 5000))"
   ],
   "metadata": {
    "collapsed": false
   }
  },
  {
   "cell_type": "code",
   "execution_count": null,
   "outputs": [],
   "source": [
    "features = [feature[1] for feature in features]"
   ],
   "metadata": {
    "collapsed": false
   }
  },
  {
   "cell_type": "code",
   "execution_count": 36,
   "outputs": [],
   "source": [
    "with open(\"features_0.json\", \"w\") as f:\n",
    "\tjson.dump(features, f)"
   ],
   "metadata": {
    "collapsed": false
   }
  },
  {
   "cell_type": "code",
   "execution_count": 37,
   "outputs": [
    {
     "name": "stdout",
     "output_type": "stream",
     "text": [
      "5000\n"
     ]
    }
   ],
   "source": [
    "print(len(features))"
   ],
   "metadata": {
    "collapsed": false
   }
  },
  {
   "cell_type": "code",
   "execution_count": null,
   "outputs": [],
   "source": [],
   "metadata": {
    "collapsed": false
   }
  }
 ],
 "metadata": {
  "kernelspec": {
   "display_name": "Python 3",
   "language": "python",
   "name": "python3"
  },
  "language_info": {
   "codemirror_mode": {
    "name": "ipython",
    "version": 2
   },
   "file_extension": ".py",
   "mimetype": "text/x-python",
   "name": "python",
   "nbconvert_exporter": "python",
   "pygments_lexer": "ipython2",
   "version": "2.7.6"
  }
 },
 "nbformat": 4,
 "nbformat_minor": 0
}
