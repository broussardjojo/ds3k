{
 "cells": [
  {
   "cell_type": "code",
   "execution_count": 14,
   "metadata": {
    "collapsed": true
   },
   "outputs": [],
   "source": [
    "# Imports\n",
    "import sys\n",
    "import pandas as pd\n",
    "import pathlib\n",
    "import spotipy\n",
    "from spotipy.oauth2 import SpotifyOAuth\n",
    "\n",
    "import api_setup\n",
    "\n",
    "CWD = pathlib.Path.cwd()\n",
    "REPO_ROOT = CWD.parent.parent.parent\n",
    "DATA_DIR = REPO_ROOT / \"data\"\n",
    "APP = 'spotify'\n",
    "NAME = 'jojo'\n",
    "SUBDIRS = 'my_spotify_data/MyData/'\n",
    "USER_DATA_DIR = DATA_DIR / APP / NAME / SUBDIRS\n",
    "\n",
    "# API Keys\n",
    "sys.path.append(REPO_ROOT)\n",
    "from api_setup import parse_api_kvs\n"
   ]
  },
  {
   "cell_type": "code",
   "execution_count": 15,
   "outputs": [
    {
     "data": {
      "text/plain": "               endTime       artistName                        trackName  \\\n0     2021-10-13 21:16       U.S. Girls                           L-Over   \n1     2021-10-14 00:55  Indigo De Souza         What Are We Gonna Do Now   \n2     2021-10-14 00:55            Yelle                           Ba$$in   \n3     2021-10-14 00:55    Amy Winehouse                         Addicted   \n4     2021-10-14 00:55        Baby Keem                        APOLOGIZE   \n...                ...              ...                              ...   \n9995  2022-02-19 06:01     The Internet          Girl (feat. KAYTRANADA)   \n9996  2022-02-19 06:04       KAYTRANADA                    What You Need   \n9997  2022-02-19 06:07       KAYTRANADA  $payforhaiti (feat. Mach-Hommy)   \n9998  2022-02-19 06:11       KAYTRANADA                    Hilarity Duff   \n9999  2022-02-19 06:13       KAYTRANADA   Gray Area (feat. Mick Jenkins)   \n\n      msPlayed  \n0        90543  \n1         1405  \n2         3828  \n3         1317  \n4         1301  \n...        ...  \n9995    415613  \n9996    183786  \n9997    183773  \n9998    257463  \n9999    139653  \n\n[10000 rows x 4 columns]",
      "text/html": "<div>\n<style scoped>\n    .dataframe tbody tr th:only-of-type {\n        vertical-align: middle;\n    }\n\n    .dataframe tbody tr th {\n        vertical-align: top;\n    }\n\n    .dataframe thead th {\n        text-align: right;\n    }\n</style>\n<table border=\"1\" class=\"dataframe\">\n  <thead>\n    <tr style=\"text-align: right;\">\n      <th></th>\n      <th>endTime</th>\n      <th>artistName</th>\n      <th>trackName</th>\n      <th>msPlayed</th>\n    </tr>\n  </thead>\n  <tbody>\n    <tr>\n      <th>0</th>\n      <td>2021-10-13 21:16</td>\n      <td>U.S. Girls</td>\n      <td>L-Over</td>\n      <td>90543</td>\n    </tr>\n    <tr>\n      <th>1</th>\n      <td>2021-10-14 00:55</td>\n      <td>Indigo De Souza</td>\n      <td>What Are We Gonna Do Now</td>\n      <td>1405</td>\n    </tr>\n    <tr>\n      <th>2</th>\n      <td>2021-10-14 00:55</td>\n      <td>Yelle</td>\n      <td>Ba$$in</td>\n      <td>3828</td>\n    </tr>\n    <tr>\n      <th>3</th>\n      <td>2021-10-14 00:55</td>\n      <td>Amy Winehouse</td>\n      <td>Addicted</td>\n      <td>1317</td>\n    </tr>\n    <tr>\n      <th>4</th>\n      <td>2021-10-14 00:55</td>\n      <td>Baby Keem</td>\n      <td>APOLOGIZE</td>\n      <td>1301</td>\n    </tr>\n    <tr>\n      <th>...</th>\n      <td>...</td>\n      <td>...</td>\n      <td>...</td>\n      <td>...</td>\n    </tr>\n    <tr>\n      <th>9995</th>\n      <td>2022-02-19 06:01</td>\n      <td>The Internet</td>\n      <td>Girl (feat. KAYTRANADA)</td>\n      <td>415613</td>\n    </tr>\n    <tr>\n      <th>9996</th>\n      <td>2022-02-19 06:04</td>\n      <td>KAYTRANADA</td>\n      <td>What You Need</td>\n      <td>183786</td>\n    </tr>\n    <tr>\n      <th>9997</th>\n      <td>2022-02-19 06:07</td>\n      <td>KAYTRANADA</td>\n      <td>$payforhaiti (feat. Mach-Hommy)</td>\n      <td>183773</td>\n    </tr>\n    <tr>\n      <th>9998</th>\n      <td>2022-02-19 06:11</td>\n      <td>KAYTRANADA</td>\n      <td>Hilarity Duff</td>\n      <td>257463</td>\n    </tr>\n    <tr>\n      <th>9999</th>\n      <td>2022-02-19 06:13</td>\n      <td>KAYTRANADA</td>\n      <td>Gray Area (feat. Mick Jenkins)</td>\n      <td>139653</td>\n    </tr>\n  </tbody>\n</table>\n<p>10000 rows × 4 columns</p>\n</div>"
     },
     "execution_count": 15,
     "metadata": {},
     "output_type": "execute_result"
    }
   ],
   "source": [
    "# Understanding StreamingHistory\n",
    "streaming_history_0 = pd.read_json(USER_DATA_DIR / \"StreamingHistory0.json\")\n",
    "streaming_history_0"
   ],
   "metadata": {
    "collapsed": false
   }
  },
  {
   "cell_type": "code",
   "execution_count": 16,
   "outputs": [
    {
     "name": "stdout",
     "output_type": "stream",
     "text": [
      "Young Heart\n",
      "Beautiful Lies\n",
      "Fire Within\n",
      "Live in London\n",
      "Birdy\n",
      "Birdy\n",
      "Birdy (Deluxe Version)\n"
     ]
    }
   ],
   "source": [
    "# Understanding the spotipy API and making sure it's installed correctly\n",
    "\n",
    "env_vars = api_setup.parse_api_kvs(REPO_ROOT / \"api-keys\")\n",
    "\n",
    "birdy_uri = 'spotify:artist:2WX2uTcsvV5OnS0inACecP'\n",
    "spotify = spotipy.Spotify(client_credentials_manager=SpotifyOAuth(**env_vars))\n",
    "\n",
    "results = spotify.artist_albums(birdy_uri, album_type='album')\n",
    "albums = results['items']\n",
    "while results['next']:\n",
    "    results = spotify.next(results)\n",
    "    albums.extend(results['items'])\n",
    "\n",
    "for album in albums:\n",
    "    print(album['name'])"
   ],
   "metadata": {
    "collapsed": false
   }
  }
 ],
 "metadata": {
  "kernelspec": {
   "display_name": "Python 3",
   "language": "python",
   "name": "python3"
  },
  "language_info": {
   "codemirror_mode": {
    "name": "ipython",
    "version": 2
   },
   "file_extension": ".py",
   "mimetype": "text/x-python",
   "name": "python",
   "nbconvert_exporter": "python",
   "pygments_lexer": "ipython2",
   "version": "2.7.6"
  }
 },
 "nbformat": 4,
 "nbformat_minor": 0
}
