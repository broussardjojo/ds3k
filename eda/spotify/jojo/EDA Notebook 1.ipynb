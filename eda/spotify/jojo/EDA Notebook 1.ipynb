{
 "cells": [
  {
   "cell_type": "code",
   "execution_count": 4,
   "metadata": {
    "collapsed": true
   },
   "outputs": [],
   "source": [
    "# Imports\n",
    "import sys\n",
    "import pandas as pd\n",
    "import pathlib\n",
    "import spotipy\n",
    "from spotipy.oauth2 import SpotifyOAuth, SpotifyClientCredentials\n",
    "import pprint\n",
    "import json\n",
    "\n",
    "import api_setup\n",
    "\n",
    "CWD = pathlib.Path.cwd()\n",
    "REPO_ROOT = CWD.parent.parent.parent\n",
    "DATA_DIR = REPO_ROOT / \"data\"\n",
    "APP = 'spotify'\n",
    "NAME = 'jojo'\n",
    "SUBDIRS = 'my_spotify_data/MyData/'\n",
    "USER_DATA_DIR = DATA_DIR / APP / NAME / SUBDIRS\n"
   ]
  },
  {
   "cell_type": "code",
   "execution_count": 5,
   "outputs": [
    {
     "data": {
      "text/plain": "               endTime         artistName                 trackName  msPlayed\n0     2021-10-13 21:16         U.S. Girls                    L-Over     90543\n1     2021-10-14 00:55    Indigo De Souza  What Are We Gonna Do Now      1405\n2     2021-10-14 00:55              Yelle                    Ba$$in      3828\n3     2021-10-14 00:55      Amy Winehouse                  Addicted      1317\n4     2021-10-14 00:55          Baby Keem                 APOLOGIZE      1301\n...                ...                ...                       ...       ...\n9436  2022-10-14 17:39         Kanye West             Love Lockdown      2360\n9437  2022-10-14 17:39  Car Seat Headrest    Nervous Young Inhumans       160\n9438  2022-10-14 17:43               S3RL                       Mtc    260530\n9439  2022-10-14 17:48         Kanye West             Love Lockdown    270306\n9440  2022-10-14 17:51     Ayesha Erotica            Literal Legend    164671\n\n[19441 rows x 4 columns]",
      "text/html": "<div>\n<style scoped>\n    .dataframe tbody tr th:only-of-type {\n        vertical-align: middle;\n    }\n\n    .dataframe tbody tr th {\n        vertical-align: top;\n    }\n\n    .dataframe thead th {\n        text-align: right;\n    }\n</style>\n<table border=\"1\" class=\"dataframe\">\n  <thead>\n    <tr style=\"text-align: right;\">\n      <th></th>\n      <th>endTime</th>\n      <th>artistName</th>\n      <th>trackName</th>\n      <th>msPlayed</th>\n    </tr>\n  </thead>\n  <tbody>\n    <tr>\n      <th>0</th>\n      <td>2021-10-13 21:16</td>\n      <td>U.S. Girls</td>\n      <td>L-Over</td>\n      <td>90543</td>\n    </tr>\n    <tr>\n      <th>1</th>\n      <td>2021-10-14 00:55</td>\n      <td>Indigo De Souza</td>\n      <td>What Are We Gonna Do Now</td>\n      <td>1405</td>\n    </tr>\n    <tr>\n      <th>2</th>\n      <td>2021-10-14 00:55</td>\n      <td>Yelle</td>\n      <td>Ba$$in</td>\n      <td>3828</td>\n    </tr>\n    <tr>\n      <th>3</th>\n      <td>2021-10-14 00:55</td>\n      <td>Amy Winehouse</td>\n      <td>Addicted</td>\n      <td>1317</td>\n    </tr>\n    <tr>\n      <th>4</th>\n      <td>2021-10-14 00:55</td>\n      <td>Baby Keem</td>\n      <td>APOLOGIZE</td>\n      <td>1301</td>\n    </tr>\n    <tr>\n      <th>...</th>\n      <td>...</td>\n      <td>...</td>\n      <td>...</td>\n      <td>...</td>\n    </tr>\n    <tr>\n      <th>9436</th>\n      <td>2022-10-14 17:39</td>\n      <td>Kanye West</td>\n      <td>Love Lockdown</td>\n      <td>2360</td>\n    </tr>\n    <tr>\n      <th>9437</th>\n      <td>2022-10-14 17:39</td>\n      <td>Car Seat Headrest</td>\n      <td>Nervous Young Inhumans</td>\n      <td>160</td>\n    </tr>\n    <tr>\n      <th>9438</th>\n      <td>2022-10-14 17:43</td>\n      <td>S3RL</td>\n      <td>Mtc</td>\n      <td>260530</td>\n    </tr>\n    <tr>\n      <th>9439</th>\n      <td>2022-10-14 17:48</td>\n      <td>Kanye West</td>\n      <td>Love Lockdown</td>\n      <td>270306</td>\n    </tr>\n    <tr>\n      <th>9440</th>\n      <td>2022-10-14 17:51</td>\n      <td>Ayesha Erotica</td>\n      <td>Literal Legend</td>\n      <td>164671</td>\n    </tr>\n  </tbody>\n</table>\n<p>19441 rows × 4 columns</p>\n</div>"
     },
     "execution_count": 5,
     "metadata": {},
     "output_type": "execute_result"
    }
   ],
   "source": [
    "# Understanding StreamingHistory\n",
    "streaming_history_0 = pd.read_json(USER_DATA_DIR / \"StreamingHistory0.json\")\n",
    "streaming_history_1 = pd.read_json(USER_DATA_DIR / \"StreamingHistory1.json\")\n",
    "streaming_history = pd.concat([streaming_history_0, streaming_history_1])\n",
    "streaming_history"
   ],
   "metadata": {
    "collapsed": false
   }
  },
  {
   "cell_type": "code",
   "execution_count": 6,
   "outputs": [
    {
     "name": "stdout",
     "output_type": "stream",
     "text": [
      "<spotipy.client.Spotify object at 0x00000291BD3923A0>\n"
     ]
    }
   ],
   "source": [
    "# Understanding the spotipy API and making sure it's installed correctly\n",
    "env_vars = api_setup.parse_api_kvs(REPO_ROOT / \"api-keys\")\n",
    "\n",
    "auth_manager = SpotifyClientCredentials(env_vars['client_id'], env_vars['client_secret'])\n",
    "spotify = spotipy.Spotify(client_credentials_manager=auth_manager, backoff_factor=2)"
   ],
   "metadata": {
    "collapsed": false
   }
  },
  {
   "cell_type": "code",
   "execution_count": 7,
   "outputs": [
    {
     "name": "stdout",
     "output_type": "stream",
     "text": [
      "Young Heart\n",
      "Beautiful Lies\n",
      "Beautiful Lies\n",
      "Beautiful Lies (Deluxe)\n",
      "Beautiful Lies (Deluxe)\n",
      "Fire Within\n",
      "Fire Within\n",
      "Fire Within (Deluxe)\n",
      "Fire Within (Deluxe)\n",
      "Fire Within (Deluxe)\n",
      "Live in London\n",
      "Birdy\n",
      "Birdy\n",
      "Birdy\n",
      "Birdy\n",
      "Birdy (Deluxe Version)\n"
     ]
    }
   ],
   "source": [
    "birdy_uri = 'spotify:artist:2WX2uTcsvV5OnS0inACecP'\n",
    "results = spotify.artist_albums(birdy_uri, album_type='album')\n",
    "albums = results['items']\n",
    "while results['next']:\n",
    "    results = spotify.next(results)\n",
    "    albums.extend(results['items'])\n",
    "\n",
    "for album in albums:\n",
    "    print(album['name'])"
   ],
   "metadata": {
    "collapsed": false
   }
  },
  {
   "cell_type": "code",
   "execution_count": null,
   "outputs": [],
   "source": [
    "# Mapping artist names to URIs using search?\n",
    "artist_name_to_uri = {}\n",
    "pp = pprint.PrettyPrinter(indent=1)\n",
    "for artist in streaming_history.artistName.unique()[10]:\n",
    "    try:\n",
    "        search_result = json.loads(json.dumps(spotify.search(artist, limit=1, type='artist')))\n",
    "        pp.pprint(search_result)\n",
    "        artist_uri = search_result['artists']['items'][0]['uri']\n",
    "        artist_name_to_uri[artist] = artist_uri\n",
    "    except Exception:\n",
    "        print(f\"Unable to find artist {artist}\")\n",
    "        continue\n",
    "print(artist_name_to_uri)"
   ],
   "metadata": {
    "collapsed": false,
    "pycharm": {
     "is_executing": true
    }
   }
  },
  {
   "cell_type": "code",
   "execution_count": null,
   "outputs": [],
   "source": [
    "# Doing the same for all of us and turning that into a json file\n",
    "pp = pprint.PrettyPrinter()\n",
    "list_all_members_streaming_history = []\n",
    "all_members_artists_uris = {}\n",
    "artist_name_to_uri = {}\n",
    "for group_member in ['jojo', 'nick', 'richard']:\n",
    "    data_path = USER_DATA_DIR = DATA_DIR / APP / group_member / SUBDIRS\n",
    "    data_files = data_path.glob(\"StreamingHistory*.json\")\n",
    "    for file in data_files:\n",
    "        with open(file, encoding='utf-8') as thisfile:\n",
    "            data = pd.read_json(thisfile)\n",
    "            list_all_members_streaming_history.append(data)\n",
    "\n",
    "all_members_streaming_history = pd.concat(list_all_members_streaming_history, ignore_index=True)\n",
    "all_artists = all_members_streaming_history.artistName.unique()\n",
    "pp.pprint(all_artists)\n",
    "print(len(all_artists))"
   ],
   "metadata": {
    "collapsed": false,
    "pycharm": {
     "is_executing": true
    }
   }
  },
  {
   "cell_type": "code",
   "execution_count": null,
   "outputs": [],
   "source": [
    "for idx, artist in enumerate(all_artists):\n",
    "    try:\n",
    "        search_query = f\"artist:{artist}\"\n",
    "        search_result = json.loads(json.dumps(spotify.search(q=search_query, limit=1, type='artist')))\n",
    "        artist_uri = search_result['artists']['items'][0]['uri']\n",
    "        print(f\"{artist} URI: {artist_uri}\")\n",
    "        artist_name_to_uri[artist] = artist_uri\n",
    "        if idx % 100 == 0:\n",
    "            print(f\"Artists obtained: {idx} / {len(all_artists)}\")\n",
    "    except Exception as e:\n",
    "        print(e)\n",
    "        print(f\"Unable to find artist {artist}\")\n",
    "        continue\n",
    "\n",
    "with open(\"artist_uris.json\", \"w\") as f:\n",
    "    f.write(json.dumps(artist_name_to_uri))"
   ],
   "metadata": {
    "collapsed": false,
    "pycharm": {
     "is_executing": true
    }
   }
  },
  {
   "cell_type": "code",
   "execution_count": null,
   "outputs": [],
   "source": [],
   "metadata": {
    "collapsed": false,
    "pycharm": {
     "is_executing": true
    }
   }
  }
 ],
 "metadata": {
  "kernelspec": {
   "display_name": "Python 3",
   "language": "python",
   "name": "python3"
  },
  "language_info": {
   "codemirror_mode": {
    "name": "ipython",
    "version": 2
   },
   "file_extension": ".py",
   "mimetype": "text/x-python",
   "name": "python",
   "nbconvert_exporter": "python",
   "pygments_lexer": "ipython2",
   "version": "2.7.6"
  }
 },
 "nbformat": 4,
 "nbformat_minor": 0
}
