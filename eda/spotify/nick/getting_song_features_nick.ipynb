{
 "cells": [
  {
   "cell_type": "code",
   "execution_count": 18,
   "metadata": {},
   "outputs": [],
   "source": [
    "import asyncio\n",
    "\n",
    "import spotipy\n",
    "import spotipy.util as util\n",
    "from spotipy import SpotifyClientCredentials\n",
    "from eda.spotify.jojo.get_artist_to_uris import REPO_ROOT\n",
    "import api_setup\n",
    "import pandas as pd\n",
    "from aiohttp import ClientSession\n",
    "import requests\n",
    "import base64\n",
    "import json"
   ]
  },
  {
   "cell_type": "code",
   "execution_count": 19,
   "metadata": {},
   "outputs": [],
   "source": [
    "\n",
    "# API Auth\n",
    "env_vars = api_setup.parse_api_kvs(REPO_ROOT / \"api-keys\")\n",
    "auth_manager = SpotifyClientCredentials(env_vars['client_id'], env_vars['client_secret'])\n",
    "spotify = spotipy.Spotify(client_credentials_manager=auth_manager, backoff_factor=2)"
   ]
  },
  {
   "cell_type": "code",
   "execution_count": 20,
   "metadata": {},
   "outputs": [
    {
     "data": {
      "text/plain": [
       "array(['spotify:track:375h23169u0dcEho5hEkML',\n",
       "       'spotify:track:6FRqV0YP0tyazXOIxexjW5',\n",
       "       'spotify:track:4wYgevsnMVdxtHTSjboCJ7', ...,\n",
       "       'spotify:track:63Kl7faGbITZxkJGtO7MPT',\n",
       "       'spotify:track:7F8LoNeDRgItTcpTpYTmY3',\n",
       "       'spotify:track:5W1qeEGfh4SaUxniF9VKP6'], dtype=object)"
      ]
     },
     "execution_count": 20,
     "metadata": {},
     "output_type": "execute_result"
    }
   ],
   "source": [
    "# Load in data\n",
    "uri_df = pd.read_json(\"artist_track_to_uri.json\")\n",
    "uris = uri_df.uri.values\n",
    "uris"
   ]
  },
  {
   "cell_type": "code",
   "execution_count": 21,
   "metadata": {},
   "outputs": [],
   "source": [
    "# async api calls\n",
    "async def get_audio_features(session: ClientSession, uri: str) -> dict:\n",
    "\t# Trim the input string - we don't want the 'spotify:track:` part\n",
    "\turi = uri[14:]\n",
    "\tendpoint = f\"https://api.spotify.com/v1/audio-features/{uri}\"\n",
    "\n",
    "\tasync with session.get(endpoint) as response:\n",
    "\t\tresponse = await(response.json())\n",
    "\t\treturn uri, response\n",
    "\n",
    "async def main(startindex: int=0, endindex: int=-1):\n",
    "\tcreds = f\"{env_vars['client_id']}:{env_vars['client_secret']}\"\n",
    "\tcreds_b64 = base64.b64encode(creds.encode())\n",
    "\theaders= {\"Authorization\": f\"Basic {creds_b64.decode()}\"}\n",
    "\tdata= {\"grant_type\": \"client_credentials\"}\n",
    "\ttoken = requests.post(\"https://accounts.spotify.com/api/token\", headers=headers, data=data)\n",
    "\ttoken = token.json()['access_token']\n",
    "\theaders = {\"Accept\": \"application/json\", \"Content-Type\": \"application/json\", \"Authorization\": f\"Bearer {token}\"}\n",
    "\tasync with ClientSession(headers=headers) as session:\n",
    "\t\tbatch_uris = uris[startindex:endindex]\n",
    "\t\ttasks = []\n",
    "\t\tfor uri in batch_uris:\n",
    "\t\t\ttask = asyncio.ensure_future(get_audio_features(session, uri))\n",
    "\t\t\ttasks.append(task)\n",
    "\n",
    "\t\tfeatures = await(asyncio.gather(*tasks))\n",
    "\treturn features\n",
    "\n",
    "features = await(main(10000, -1))"
   ]
  },
  {
   "cell_type": "code",
   "execution_count": 22,
   "metadata": {},
   "outputs": [],
   "source": [
    "features = [feature[1] for feature in features]"
   ]
  },
  {
   "cell_type": "code",
   "execution_count": 23,
   "metadata": {},
   "outputs": [],
   "source": [
    "with open(\"features_2.json\", \"w\") as f:\n",
    "\tjson.dump(features, f)"
   ]
  },
  {
   "cell_type": "code",
   "execution_count": 24,
   "metadata": {},
   "outputs": [
    {
     "name": "stdout",
     "output_type": "stream",
     "text": [
      "6174\n"
     ]
    }
   ],
   "source": [
    "print(len(features))"
   ]
  },
  {
   "cell_type": "code",
   "execution_count": null,
   "metadata": {},
   "outputs": [],
   "source": []
  }
 ],
 "metadata": {
  "kernelspec": {
   "display_name": "Python 3 (ipykernel)",
   "language": "python",
   "name": "python3"
  },
  "language_info": {
   "codemirror_mode": {
    "name": "ipython",
    "version": 3
   },
   "file_extension": ".py",
   "mimetype": "text/x-python",
   "name": "python",
   "nbconvert_exporter": "python",
   "pygments_lexer": "ipython3",
   "version": "3.9.13"
  }
 },
 "nbformat": 4,
 "nbformat_minor": 1
}
