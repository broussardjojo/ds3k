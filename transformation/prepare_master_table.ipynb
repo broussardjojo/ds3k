{
 "cells": [
  {
   "cell_type": "code",
   "execution_count": 64,
   "metadata": {
    "collapsed": true
   },
   "outputs": [],
   "source": [
    "import numpy as np\n",
    "import pandas as pd\n",
    "import pathlib\n",
    "\n",
    "REPO_ROOT = pathlib.Path.cwd().parent"
   ]
  },
  {
   "cell_type": "code",
   "execution_count": 65,
   "outputs": [
    {
     "data": {
      "text/plain": "               artist                                              track  \\\n0          LOONA/yyxy                            love4eva (feat. Grimes)   \n1         Danny Brown                                 Side B [Dope Song]   \n2               Latto                           Muwop (feat. Gucci Mane)   \n3           MIMIDEATH                                            abusive   \n4          Rico Nasty                                        Pressing Me   \n5              DaBaby                                              VIBEZ   \n6      Otoboke Beaver                  Leave me alone! No, stay with me!   \n7           Flo Milli                                    Like That Bitch   \n8  Tyler, The Creator  PartyIsntOver/Campfire/Bimmer (feat. Frank Oce...   \n9               Lorde                                     Buzzcut Season   \n\n                      uri nick_history jojo_history rich_history  \\\n0  4rKEmhNA19JezqVsSQS4yo          NaN         True          NaN   \n1  26dfLcCVJUdscPvmUmkuSI          NaN         True          NaN   \n2  231WYcXWUxYSx79tuPtzBk          NaN         True          NaN   \n3  11V7vRMorD73js8sfgBOS7          NaN         True          NaN   \n4  3wtVRcrYtWJVs0rBTabJJ8          NaN         True          NaN   \n5  0fySG6A6qLE8IvDpayb5bM         True         True          NaN   \n6  0al4YLXuKajNIiJ1IXi9JL          NaN         True          NaN   \n7  7zoZd2MuTaQEdF1rlq6Vv1          NaN         True          NaN   \n8  04QTBqa3IA4ZAKEuqRPzEH          NaN         True          NaN   \n9  51QEyJI5M7uyd8DOh9tqQY          NaN         True          NaN   \n\n   danceability  energy  key  loudness  ...  speechiness  acousticness  \\\n0         0.738   0.954    1    -2.146  ...       0.0356       0.06920   \n1         0.690   0.600    8    -7.331  ...       0.2490       0.18700   \n2         0.790   0.614    9    -6.958  ...       0.0991       0.06060   \n3         0.828   0.764    2    -7.361  ...       0.1040       0.17000   \n4         0.936   0.523    1    -6.390  ...       0.2690       0.00365   \n5         0.768   0.652    1    -2.708  ...       0.3070       0.11300   \n6         0.321   0.973    9    -1.191  ...       0.1540       0.00751   \n7         0.782   0.844   10    -4.142  ...       0.2300       0.10700   \n8         0.443   0.576    1    -8.695  ...       0.2010       0.07090   \n9         0.733   0.620    1   -10.525  ...       0.0750       0.60600   \n\n   instrumentalness  liveness  valence    tempo            type  \\\n0          0.000000     0.222    0.742  102.015  audio_features   \n1          0.000000     0.694    0.761  160.080  audio_features   \n2          0.000000     0.239    0.630  145.907  audio_features   \n3          0.309000     0.237    0.289  110.987  audio_features   \n4          0.000000     0.105    0.278  130.014  audio_features   \n5          0.000000     0.107    0.777  154.187  audio_features   \n6          0.684000     0.086    0.574  132.201  audio_features   \n7          0.000001     0.295    0.760   77.435  audio_features   \n8          0.019700     0.410    0.127  151.835  audio_features   \n9          0.305000     0.117    0.247  111.039  audio_features   \n\n                       id duration_ms  time_signature  \n0  4rKEmhNA19JezqVsSQS4yo      220477               4  \n1  26dfLcCVJUdscPvmUmkuSI      156744               4  \n2  231WYcXWUxYSx79tuPtzBk      200135               4  \n3  11V7vRMorD73js8sfgBOS7       72801               4  \n4  3wtVRcrYtWJVs0rBTabJJ8      162636               4  \n5  0fySG6A6qLE8IvDpayb5bM      144935               4  \n6  0al4YLXuKajNIiJ1IXi9JL      101840               4  \n7  7zoZd2MuTaQEdF1rlq6Vv1      203044               4  \n8  04QTBqa3IA4ZAKEuqRPzEH      438493               4  \n9  51QEyJI5M7uyd8DOh9tqQY      246755               4  \n\n[10 rows x 21 columns]",
      "text/html": "<div>\n<style scoped>\n    .dataframe tbody tr th:only-of-type {\n        vertical-align: middle;\n    }\n\n    .dataframe tbody tr th {\n        vertical-align: top;\n    }\n\n    .dataframe thead th {\n        text-align: right;\n    }\n</style>\n<table border=\"1\" class=\"dataframe\">\n  <thead>\n    <tr style=\"text-align: right;\">\n      <th></th>\n      <th>artist</th>\n      <th>track</th>\n      <th>uri</th>\n      <th>nick_history</th>\n      <th>jojo_history</th>\n      <th>rich_history</th>\n      <th>danceability</th>\n      <th>energy</th>\n      <th>key</th>\n      <th>loudness</th>\n      <th>...</th>\n      <th>speechiness</th>\n      <th>acousticness</th>\n      <th>instrumentalness</th>\n      <th>liveness</th>\n      <th>valence</th>\n      <th>tempo</th>\n      <th>type</th>\n      <th>id</th>\n      <th>duration_ms</th>\n      <th>time_signature</th>\n    </tr>\n  </thead>\n  <tbody>\n    <tr>\n      <th>0</th>\n      <td>LOONA/yyxy</td>\n      <td>love4eva (feat. Grimes)</td>\n      <td>4rKEmhNA19JezqVsSQS4yo</td>\n      <td>NaN</td>\n      <td>True</td>\n      <td>NaN</td>\n      <td>0.738</td>\n      <td>0.954</td>\n      <td>1</td>\n      <td>-2.146</td>\n      <td>...</td>\n      <td>0.0356</td>\n      <td>0.06920</td>\n      <td>0.000000</td>\n      <td>0.222</td>\n      <td>0.742</td>\n      <td>102.015</td>\n      <td>audio_features</td>\n      <td>4rKEmhNA19JezqVsSQS4yo</td>\n      <td>220477</td>\n      <td>4</td>\n    </tr>\n    <tr>\n      <th>1</th>\n      <td>Danny Brown</td>\n      <td>Side B [Dope Song]</td>\n      <td>26dfLcCVJUdscPvmUmkuSI</td>\n      <td>NaN</td>\n      <td>True</td>\n      <td>NaN</td>\n      <td>0.690</td>\n      <td>0.600</td>\n      <td>8</td>\n      <td>-7.331</td>\n      <td>...</td>\n      <td>0.2490</td>\n      <td>0.18700</td>\n      <td>0.000000</td>\n      <td>0.694</td>\n      <td>0.761</td>\n      <td>160.080</td>\n      <td>audio_features</td>\n      <td>26dfLcCVJUdscPvmUmkuSI</td>\n      <td>156744</td>\n      <td>4</td>\n    </tr>\n    <tr>\n      <th>2</th>\n      <td>Latto</td>\n      <td>Muwop (feat. Gucci Mane)</td>\n      <td>231WYcXWUxYSx79tuPtzBk</td>\n      <td>NaN</td>\n      <td>True</td>\n      <td>NaN</td>\n      <td>0.790</td>\n      <td>0.614</td>\n      <td>9</td>\n      <td>-6.958</td>\n      <td>...</td>\n      <td>0.0991</td>\n      <td>0.06060</td>\n      <td>0.000000</td>\n      <td>0.239</td>\n      <td>0.630</td>\n      <td>145.907</td>\n      <td>audio_features</td>\n      <td>231WYcXWUxYSx79tuPtzBk</td>\n      <td>200135</td>\n      <td>4</td>\n    </tr>\n    <tr>\n      <th>3</th>\n      <td>MIMIDEATH</td>\n      <td>abusive</td>\n      <td>11V7vRMorD73js8sfgBOS7</td>\n      <td>NaN</td>\n      <td>True</td>\n      <td>NaN</td>\n      <td>0.828</td>\n      <td>0.764</td>\n      <td>2</td>\n      <td>-7.361</td>\n      <td>...</td>\n      <td>0.1040</td>\n      <td>0.17000</td>\n      <td>0.309000</td>\n      <td>0.237</td>\n      <td>0.289</td>\n      <td>110.987</td>\n      <td>audio_features</td>\n      <td>11V7vRMorD73js8sfgBOS7</td>\n      <td>72801</td>\n      <td>4</td>\n    </tr>\n    <tr>\n      <th>4</th>\n      <td>Rico Nasty</td>\n      <td>Pressing Me</td>\n      <td>3wtVRcrYtWJVs0rBTabJJ8</td>\n      <td>NaN</td>\n      <td>True</td>\n      <td>NaN</td>\n      <td>0.936</td>\n      <td>0.523</td>\n      <td>1</td>\n      <td>-6.390</td>\n      <td>...</td>\n      <td>0.2690</td>\n      <td>0.00365</td>\n      <td>0.000000</td>\n      <td>0.105</td>\n      <td>0.278</td>\n      <td>130.014</td>\n      <td>audio_features</td>\n      <td>3wtVRcrYtWJVs0rBTabJJ8</td>\n      <td>162636</td>\n      <td>4</td>\n    </tr>\n    <tr>\n      <th>5</th>\n      <td>DaBaby</td>\n      <td>VIBEZ</td>\n      <td>0fySG6A6qLE8IvDpayb5bM</td>\n      <td>True</td>\n      <td>True</td>\n      <td>NaN</td>\n      <td>0.768</td>\n      <td>0.652</td>\n      <td>1</td>\n      <td>-2.708</td>\n      <td>...</td>\n      <td>0.3070</td>\n      <td>0.11300</td>\n      <td>0.000000</td>\n      <td>0.107</td>\n      <td>0.777</td>\n      <td>154.187</td>\n      <td>audio_features</td>\n      <td>0fySG6A6qLE8IvDpayb5bM</td>\n      <td>144935</td>\n      <td>4</td>\n    </tr>\n    <tr>\n      <th>6</th>\n      <td>Otoboke Beaver</td>\n      <td>Leave me alone! No, stay with me!</td>\n      <td>0al4YLXuKajNIiJ1IXi9JL</td>\n      <td>NaN</td>\n      <td>True</td>\n      <td>NaN</td>\n      <td>0.321</td>\n      <td>0.973</td>\n      <td>9</td>\n      <td>-1.191</td>\n      <td>...</td>\n      <td>0.1540</td>\n      <td>0.00751</td>\n      <td>0.684000</td>\n      <td>0.086</td>\n      <td>0.574</td>\n      <td>132.201</td>\n      <td>audio_features</td>\n      <td>0al4YLXuKajNIiJ1IXi9JL</td>\n      <td>101840</td>\n      <td>4</td>\n    </tr>\n    <tr>\n      <th>7</th>\n      <td>Flo Milli</td>\n      <td>Like That Bitch</td>\n      <td>7zoZd2MuTaQEdF1rlq6Vv1</td>\n      <td>NaN</td>\n      <td>True</td>\n      <td>NaN</td>\n      <td>0.782</td>\n      <td>0.844</td>\n      <td>10</td>\n      <td>-4.142</td>\n      <td>...</td>\n      <td>0.2300</td>\n      <td>0.10700</td>\n      <td>0.000001</td>\n      <td>0.295</td>\n      <td>0.760</td>\n      <td>77.435</td>\n      <td>audio_features</td>\n      <td>7zoZd2MuTaQEdF1rlq6Vv1</td>\n      <td>203044</td>\n      <td>4</td>\n    </tr>\n    <tr>\n      <th>8</th>\n      <td>Tyler, The Creator</td>\n      <td>PartyIsntOver/Campfire/Bimmer (feat. Frank Oce...</td>\n      <td>04QTBqa3IA4ZAKEuqRPzEH</td>\n      <td>NaN</td>\n      <td>True</td>\n      <td>NaN</td>\n      <td>0.443</td>\n      <td>0.576</td>\n      <td>1</td>\n      <td>-8.695</td>\n      <td>...</td>\n      <td>0.2010</td>\n      <td>0.07090</td>\n      <td>0.019700</td>\n      <td>0.410</td>\n      <td>0.127</td>\n      <td>151.835</td>\n      <td>audio_features</td>\n      <td>04QTBqa3IA4ZAKEuqRPzEH</td>\n      <td>438493</td>\n      <td>4</td>\n    </tr>\n    <tr>\n      <th>9</th>\n      <td>Lorde</td>\n      <td>Buzzcut Season</td>\n      <td>51QEyJI5M7uyd8DOh9tqQY</td>\n      <td>NaN</td>\n      <td>True</td>\n      <td>NaN</td>\n      <td>0.733</td>\n      <td>0.620</td>\n      <td>1</td>\n      <td>-10.525</td>\n      <td>...</td>\n      <td>0.0750</td>\n      <td>0.60600</td>\n      <td>0.305000</td>\n      <td>0.117</td>\n      <td>0.247</td>\n      <td>111.039</td>\n      <td>audio_features</td>\n      <td>51QEyJI5M7uyd8DOh9tqQY</td>\n      <td>246755</td>\n      <td>4</td>\n    </tr>\n  </tbody>\n</table>\n<p>10 rows × 21 columns</p>\n</div>"
     },
     "execution_count": 65,
     "metadata": {},
     "output_type": "execute_result"
    }
   ],
   "source": [
    "# Beginning with the master table created by Nick\n",
    "library_data = pd.read_csv(REPO_ROOT / 'eda/spotify/richard/masterTablewithfeatures.csv')\n",
    "library_data = library_data.drop(columns=[\"Unnamed: 0\"])\n",
    "library_data.head(10)"
   ],
   "metadata": {
    "collapsed": false
   }
  },
  {
   "cell_type": "code",
   "execution_count": 66,
   "outputs": [],
   "source": [
    "# Drop double id column and column 'type' that came from api requests\n",
    "library_data = library_data.drop(columns=['id', 'type'])"
   ],
   "metadata": {
    "collapsed": false
   }
  },
  {
   "cell_type": "code",
   "execution_count": 67,
   "outputs": [
    {
     "data": {
      "text/plain": "               artist                                              track  \\\n0          LOONA/yyxy                            love4eva (feat. Grimes)   \n1         Danny Brown                                 Side B [Dope Song]   \n2               Latto                           Muwop (feat. Gucci Mane)   \n3           MIMIDEATH                                            abusive   \n4          Rico Nasty                                        Pressing Me   \n5              DaBaby                                              VIBEZ   \n6      Otoboke Beaver                  Leave me alone! No, stay with me!   \n7           Flo Milli                                    Like That Bitch   \n8  Tyler, The Creator  PartyIsntOver/Campfire/Bimmer (feat. Frank Oce...   \n9               Lorde                                     Buzzcut Season   \n\n                      uri  nick_history  jojo_history  rich_history  \\\n0  4rKEmhNA19JezqVsSQS4yo           0.0           1.0           0.0   \n1  26dfLcCVJUdscPvmUmkuSI           0.0           1.0           0.0   \n2  231WYcXWUxYSx79tuPtzBk           0.0           1.0           0.0   \n3  11V7vRMorD73js8sfgBOS7           0.0           1.0           0.0   \n4  3wtVRcrYtWJVs0rBTabJJ8           0.0           1.0           0.0   \n5  0fySG6A6qLE8IvDpayb5bM           1.0           1.0           0.0   \n6  0al4YLXuKajNIiJ1IXi9JL           0.0           1.0           0.0   \n7  7zoZd2MuTaQEdF1rlq6Vv1           0.0           1.0           0.0   \n8  04QTBqa3IA4ZAKEuqRPzEH           0.0           1.0           0.0   \n9  51QEyJI5M7uyd8DOh9tqQY           0.0           1.0           0.0   \n\n   danceability  energy  key  loudness  mode  speechiness  acousticness  \\\n0         0.738   0.954    1    -2.146     1       0.0356       0.06920   \n1         0.690   0.600    8    -7.331     1       0.2490       0.18700   \n2         0.790   0.614    9    -6.958     0       0.0991       0.06060   \n3         0.828   0.764    2    -7.361     1       0.1040       0.17000   \n4         0.936   0.523    1    -6.390     1       0.2690       0.00365   \n5         0.768   0.652    1    -2.708     0       0.3070       0.11300   \n6         0.321   0.973    9    -1.191     1       0.1540       0.00751   \n7         0.782   0.844   10    -4.142     0       0.2300       0.10700   \n8         0.443   0.576    1    -8.695     0       0.2010       0.07090   \n9         0.733   0.620    1   -10.525     1       0.0750       0.60600   \n\n   instrumentalness  liveness  valence    tempo  duration_ms  time_signature  \n0          0.000000     0.222    0.742  102.015       220477               4  \n1          0.000000     0.694    0.761  160.080       156744               4  \n2          0.000000     0.239    0.630  145.907       200135               4  \n3          0.309000     0.237    0.289  110.987        72801               4  \n4          0.000000     0.105    0.278  130.014       162636               4  \n5          0.000000     0.107    0.777  154.187       144935               4  \n6          0.684000     0.086    0.574  132.201       101840               4  \n7          0.000001     0.295    0.760   77.435       203044               4  \n8          0.019700     0.410    0.127  151.835       438493               4  \n9          0.305000     0.117    0.247  111.039       246755               4  ",
      "text/html": "<div>\n<style scoped>\n    .dataframe tbody tr th:only-of-type {\n        vertical-align: middle;\n    }\n\n    .dataframe tbody tr th {\n        vertical-align: top;\n    }\n\n    .dataframe thead th {\n        text-align: right;\n    }\n</style>\n<table border=\"1\" class=\"dataframe\">\n  <thead>\n    <tr style=\"text-align: right;\">\n      <th></th>\n      <th>artist</th>\n      <th>track</th>\n      <th>uri</th>\n      <th>nick_history</th>\n      <th>jojo_history</th>\n      <th>rich_history</th>\n      <th>danceability</th>\n      <th>energy</th>\n      <th>key</th>\n      <th>loudness</th>\n      <th>mode</th>\n      <th>speechiness</th>\n      <th>acousticness</th>\n      <th>instrumentalness</th>\n      <th>liveness</th>\n      <th>valence</th>\n      <th>tempo</th>\n      <th>duration_ms</th>\n      <th>time_signature</th>\n    </tr>\n  </thead>\n  <tbody>\n    <tr>\n      <th>0</th>\n      <td>LOONA/yyxy</td>\n      <td>love4eva (feat. Grimes)</td>\n      <td>4rKEmhNA19JezqVsSQS4yo</td>\n      <td>0.0</td>\n      <td>1.0</td>\n      <td>0.0</td>\n      <td>0.738</td>\n      <td>0.954</td>\n      <td>1</td>\n      <td>-2.146</td>\n      <td>1</td>\n      <td>0.0356</td>\n      <td>0.06920</td>\n      <td>0.000000</td>\n      <td>0.222</td>\n      <td>0.742</td>\n      <td>102.015</td>\n      <td>220477</td>\n      <td>4</td>\n    </tr>\n    <tr>\n      <th>1</th>\n      <td>Danny Brown</td>\n      <td>Side B [Dope Song]</td>\n      <td>26dfLcCVJUdscPvmUmkuSI</td>\n      <td>0.0</td>\n      <td>1.0</td>\n      <td>0.0</td>\n      <td>0.690</td>\n      <td>0.600</td>\n      <td>8</td>\n      <td>-7.331</td>\n      <td>1</td>\n      <td>0.2490</td>\n      <td>0.18700</td>\n      <td>0.000000</td>\n      <td>0.694</td>\n      <td>0.761</td>\n      <td>160.080</td>\n      <td>156744</td>\n      <td>4</td>\n    </tr>\n    <tr>\n      <th>2</th>\n      <td>Latto</td>\n      <td>Muwop (feat. Gucci Mane)</td>\n      <td>231WYcXWUxYSx79tuPtzBk</td>\n      <td>0.0</td>\n      <td>1.0</td>\n      <td>0.0</td>\n      <td>0.790</td>\n      <td>0.614</td>\n      <td>9</td>\n      <td>-6.958</td>\n      <td>0</td>\n      <td>0.0991</td>\n      <td>0.06060</td>\n      <td>0.000000</td>\n      <td>0.239</td>\n      <td>0.630</td>\n      <td>145.907</td>\n      <td>200135</td>\n      <td>4</td>\n    </tr>\n    <tr>\n      <th>3</th>\n      <td>MIMIDEATH</td>\n      <td>abusive</td>\n      <td>11V7vRMorD73js8sfgBOS7</td>\n      <td>0.0</td>\n      <td>1.0</td>\n      <td>0.0</td>\n      <td>0.828</td>\n      <td>0.764</td>\n      <td>2</td>\n      <td>-7.361</td>\n      <td>1</td>\n      <td>0.1040</td>\n      <td>0.17000</td>\n      <td>0.309000</td>\n      <td>0.237</td>\n      <td>0.289</td>\n      <td>110.987</td>\n      <td>72801</td>\n      <td>4</td>\n    </tr>\n    <tr>\n      <th>4</th>\n      <td>Rico Nasty</td>\n      <td>Pressing Me</td>\n      <td>3wtVRcrYtWJVs0rBTabJJ8</td>\n      <td>0.0</td>\n      <td>1.0</td>\n      <td>0.0</td>\n      <td>0.936</td>\n      <td>0.523</td>\n      <td>1</td>\n      <td>-6.390</td>\n      <td>1</td>\n      <td>0.2690</td>\n      <td>0.00365</td>\n      <td>0.000000</td>\n      <td>0.105</td>\n      <td>0.278</td>\n      <td>130.014</td>\n      <td>162636</td>\n      <td>4</td>\n    </tr>\n    <tr>\n      <th>5</th>\n      <td>DaBaby</td>\n      <td>VIBEZ</td>\n      <td>0fySG6A6qLE8IvDpayb5bM</td>\n      <td>1.0</td>\n      <td>1.0</td>\n      <td>0.0</td>\n      <td>0.768</td>\n      <td>0.652</td>\n      <td>1</td>\n      <td>-2.708</td>\n      <td>0</td>\n      <td>0.3070</td>\n      <td>0.11300</td>\n      <td>0.000000</td>\n      <td>0.107</td>\n      <td>0.777</td>\n      <td>154.187</td>\n      <td>144935</td>\n      <td>4</td>\n    </tr>\n    <tr>\n      <th>6</th>\n      <td>Otoboke Beaver</td>\n      <td>Leave me alone! No, stay with me!</td>\n      <td>0al4YLXuKajNIiJ1IXi9JL</td>\n      <td>0.0</td>\n      <td>1.0</td>\n      <td>0.0</td>\n      <td>0.321</td>\n      <td>0.973</td>\n      <td>9</td>\n      <td>-1.191</td>\n      <td>1</td>\n      <td>0.1540</td>\n      <td>0.00751</td>\n      <td>0.684000</td>\n      <td>0.086</td>\n      <td>0.574</td>\n      <td>132.201</td>\n      <td>101840</td>\n      <td>4</td>\n    </tr>\n    <tr>\n      <th>7</th>\n      <td>Flo Milli</td>\n      <td>Like That Bitch</td>\n      <td>7zoZd2MuTaQEdF1rlq6Vv1</td>\n      <td>0.0</td>\n      <td>1.0</td>\n      <td>0.0</td>\n      <td>0.782</td>\n      <td>0.844</td>\n      <td>10</td>\n      <td>-4.142</td>\n      <td>0</td>\n      <td>0.2300</td>\n      <td>0.10700</td>\n      <td>0.000001</td>\n      <td>0.295</td>\n      <td>0.760</td>\n      <td>77.435</td>\n      <td>203044</td>\n      <td>4</td>\n    </tr>\n    <tr>\n      <th>8</th>\n      <td>Tyler, The Creator</td>\n      <td>PartyIsntOver/Campfire/Bimmer (feat. Frank Oce...</td>\n      <td>04QTBqa3IA4ZAKEuqRPzEH</td>\n      <td>0.0</td>\n      <td>1.0</td>\n      <td>0.0</td>\n      <td>0.443</td>\n      <td>0.576</td>\n      <td>1</td>\n      <td>-8.695</td>\n      <td>0</td>\n      <td>0.2010</td>\n      <td>0.07090</td>\n      <td>0.019700</td>\n      <td>0.410</td>\n      <td>0.127</td>\n      <td>151.835</td>\n      <td>438493</td>\n      <td>4</td>\n    </tr>\n    <tr>\n      <th>9</th>\n      <td>Lorde</td>\n      <td>Buzzcut Season</td>\n      <td>51QEyJI5M7uyd8DOh9tqQY</td>\n      <td>0.0</td>\n      <td>1.0</td>\n      <td>0.0</td>\n      <td>0.733</td>\n      <td>0.620</td>\n      <td>1</td>\n      <td>-10.525</td>\n      <td>1</td>\n      <td>0.0750</td>\n      <td>0.60600</td>\n      <td>0.305000</td>\n      <td>0.117</td>\n      <td>0.247</td>\n      <td>111.039</td>\n      <td>246755</td>\n      <td>4</td>\n    </tr>\n  </tbody>\n</table>\n</div>"
     },
     "execution_count": 67,
     "metadata": {},
     "output_type": "execute_result"
    }
   ],
   "source": [
    "# Convert NaNs in history columns to False, and Trues to 1\n",
    "library_data[['nick_history', 'jojo_history', 'rich_history']] = library_data[['nick_history', 'jojo_history', 'rich_history']].replace({True:1.0, np.NaN:0.0})\n",
    "library_data.head(10)"
   ],
   "metadata": {
    "collapsed": false
   }
  },
  {
   "cell_type": "code",
   "execution_count": 68,
   "outputs": [],
   "source": [
    "# Dropping any records that are present in more than one of our libraries - we may reconsider the definition of correct classification later\n",
    "\n",
    "# There's probably a better way to do this, but everything else I've tried doesn't work :/\n",
    "library_data['libraries_in'] = sum([library_data['nick_history'], library_data['jojo_history'], library_data['rich_history']])\n",
    "library_data = library_data.loc[library_data.libraries_in == 1]\n",
    "library_data = library_data.drop(columns='libraries_in')"
   ],
   "metadata": {
    "collapsed": false
   }
  },
  {
   "cell_type": "code",
   "execution_count": 69,
   "outputs": [],
   "source": [
    "# Making a category variable for \"whose library is this in\"\n",
    "conditions, labels = [library_data['nick_history'].eq(1), library_data['jojo_history'].eq(1), library_data['rich_history'].eq(1)],\\\n",
    "                     ['nick', 'jojo', 'richard']\n",
    "library_data['label'] = np.select(conditions, labels)\n",
    "library_data.insert(len(library_data.columns) - 1, 'label', library_data.pop('label'))\n",
    "library_data = library_data.drop(columns=['nick_history', 'jojo_history', 'rich_history'])"
   ],
   "metadata": {
    "collapsed": false
   }
  },
  {
   "cell_type": "code",
   "execution_count": 70,
   "outputs": [],
   "source": [
    "library_data.to_csv(REPO_ROOT / \"data/spotify/group/group_mutually_exclusive_library_contents.csv\", index=False)"
   ],
   "metadata": {
    "collapsed": false
   }
  }
 ],
 "metadata": {
  "kernelspec": {
   "display_name": "Python 3",
   "language": "python",
   "name": "python3"
  },
  "language_info": {
   "codemirror_mode": {
    "name": "ipython",
    "version": 2
   },
   "file_extension": ".py",
   "mimetype": "text/x-python",
   "name": "python",
   "nbconvert_exporter": "python",
   "pygments_lexer": "ipython2",
   "version": "2.7.6"
  }
 },
 "nbformat": 4,
 "nbformat_minor": 0
}
