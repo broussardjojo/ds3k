{
 "cells": [
  {
   "cell_type": "markdown",
   "source": [
    "# Creating Train-Test Split\n",
    "The contents of this notebook create a train-test split (80:20) for the data to predict the column `label`.\n",
    "The splits are also encoded and scaled in this file."
   ],
   "metadata": {
    "collapsed": false
   }
  },
  {
   "cell_type": "code",
   "execution_count": 1,
   "metadata": {
    "collapsed": true
   },
   "outputs": [],
   "source": [
    "import pandas as pd\n",
    "import pathlib\n",
    "from sklearn.model_selection import train_test_split\n",
    "import utils.encoding\n",
    "REPO_ROOT = pathlib.Path.cwd().parent"
   ]
  },
  {
   "cell_type": "code",
   "execution_count": 3,
   "outputs": [
    {
     "data": {
      "text/plain": "                artist                                              track  \\\n0           LOONA/yyxy                            love4eva (feat. Grimes)   \n1          Danny Brown                                 Side B [Dope Song]   \n2                Latto                           Muwop (feat. Gucci Mane)   \n3            MIMIDEATH                                            abusive   \n4           Rico Nasty                                        Pressing Me   \n6       Otoboke Beaver                  Leave me alone! No, stay with me!   \n7            Flo Milli                                    Like That Bitch   \n8   Tyler, The Creator  PartyIsntOver/Campfire/Bimmer (feat. Frank Oce...   \n9                Lorde                                     Buzzcut Season   \n10       Vince Staples                              So What? - Episode 01   \n\n                       uri  danceability  energy  key  loudness  mode  \\\n0   4rKEmhNA19JezqVsSQS4yo         0.738   0.954    1    -2.146     1   \n1   26dfLcCVJUdscPvmUmkuSI         0.690   0.600    8    -7.331     1   \n2   231WYcXWUxYSx79tuPtzBk         0.790   0.614    9    -6.958     0   \n3   11V7vRMorD73js8sfgBOS7         0.828   0.764    2    -7.361     1   \n4   3wtVRcrYtWJVs0rBTabJJ8         0.936   0.523    1    -6.390     1   \n6   0al4YLXuKajNIiJ1IXi9JL         0.321   0.973    9    -1.191     1   \n7   7zoZd2MuTaQEdF1rlq6Vv1         0.782   0.844   10    -4.142     0   \n8   04QTBqa3IA4ZAKEuqRPzEH         0.443   0.576    1    -8.695     0   \n9   51QEyJI5M7uyd8DOh9tqQY         0.733   0.620    1   -10.525     1   \n10  2JRo1DJhNhZWs1TzrPNOSZ         0.854   0.844    2    -5.908     1   \n\n    speechiness  acousticness  instrumentalness  liveness  valence    tempo  \\\n0        0.0356       0.06920          0.000000     0.222    0.742  102.015   \n1        0.2490       0.18700          0.000000     0.694    0.761  160.080   \n2        0.0991       0.06060          0.000000     0.239    0.630  145.907   \n3        0.1040       0.17000          0.309000     0.237    0.289  110.987   \n4        0.2690       0.00365          0.000000     0.105    0.278  130.014   \n6        0.1540       0.00751          0.684000     0.086    0.574  132.201   \n7        0.2300       0.10700          0.000001     0.295    0.760   77.435   \n8        0.2010       0.07090          0.019700     0.410    0.127  151.835   \n9        0.0750       0.60600          0.305000     0.117    0.247  111.039   \n10       0.0519       0.00651          0.000005     0.186    0.832  146.041   \n\n    duration_ms  time_signature label  \n0        220477               4  jojo  \n1        156744               4  jojo  \n2        200135               4  jojo  \n3         72801               4  jojo  \n4        162636               4  jojo  \n6        101840               4  jojo  \n7        203044               4  jojo  \n8        438493               4  jojo  \n9        246755               4  jojo  \n10       125149               4  jojo  ",
      "text/html": "<div>\n<style scoped>\n    .dataframe tbody tr th:only-of-type {\n        vertical-align: middle;\n    }\n\n    .dataframe tbody tr th {\n        vertical-align: top;\n    }\n\n    .dataframe thead th {\n        text-align: right;\n    }\n</style>\n<table border=\"1\" class=\"dataframe\">\n  <thead>\n    <tr style=\"text-align: right;\">\n      <th></th>\n      <th>artist</th>\n      <th>track</th>\n      <th>uri</th>\n      <th>danceability</th>\n      <th>energy</th>\n      <th>key</th>\n      <th>loudness</th>\n      <th>mode</th>\n      <th>speechiness</th>\n      <th>acousticness</th>\n      <th>instrumentalness</th>\n      <th>liveness</th>\n      <th>valence</th>\n      <th>tempo</th>\n      <th>duration_ms</th>\n      <th>time_signature</th>\n      <th>label</th>\n    </tr>\n  </thead>\n  <tbody>\n    <tr>\n      <th>0</th>\n      <td>LOONA/yyxy</td>\n      <td>love4eva (feat. Grimes)</td>\n      <td>4rKEmhNA19JezqVsSQS4yo</td>\n      <td>0.738</td>\n      <td>0.954</td>\n      <td>1</td>\n      <td>-2.146</td>\n      <td>1</td>\n      <td>0.0356</td>\n      <td>0.06920</td>\n      <td>0.000000</td>\n      <td>0.222</td>\n      <td>0.742</td>\n      <td>102.015</td>\n      <td>220477</td>\n      <td>4</td>\n      <td>jojo</td>\n    </tr>\n    <tr>\n      <th>1</th>\n      <td>Danny Brown</td>\n      <td>Side B [Dope Song]</td>\n      <td>26dfLcCVJUdscPvmUmkuSI</td>\n      <td>0.690</td>\n      <td>0.600</td>\n      <td>8</td>\n      <td>-7.331</td>\n      <td>1</td>\n      <td>0.2490</td>\n      <td>0.18700</td>\n      <td>0.000000</td>\n      <td>0.694</td>\n      <td>0.761</td>\n      <td>160.080</td>\n      <td>156744</td>\n      <td>4</td>\n      <td>jojo</td>\n    </tr>\n    <tr>\n      <th>2</th>\n      <td>Latto</td>\n      <td>Muwop (feat. Gucci Mane)</td>\n      <td>231WYcXWUxYSx79tuPtzBk</td>\n      <td>0.790</td>\n      <td>0.614</td>\n      <td>9</td>\n      <td>-6.958</td>\n      <td>0</td>\n      <td>0.0991</td>\n      <td>0.06060</td>\n      <td>0.000000</td>\n      <td>0.239</td>\n      <td>0.630</td>\n      <td>145.907</td>\n      <td>200135</td>\n      <td>4</td>\n      <td>jojo</td>\n    </tr>\n    <tr>\n      <th>3</th>\n      <td>MIMIDEATH</td>\n      <td>abusive</td>\n      <td>11V7vRMorD73js8sfgBOS7</td>\n      <td>0.828</td>\n      <td>0.764</td>\n      <td>2</td>\n      <td>-7.361</td>\n      <td>1</td>\n      <td>0.1040</td>\n      <td>0.17000</td>\n      <td>0.309000</td>\n      <td>0.237</td>\n      <td>0.289</td>\n      <td>110.987</td>\n      <td>72801</td>\n      <td>4</td>\n      <td>jojo</td>\n    </tr>\n    <tr>\n      <th>4</th>\n      <td>Rico Nasty</td>\n      <td>Pressing Me</td>\n      <td>3wtVRcrYtWJVs0rBTabJJ8</td>\n      <td>0.936</td>\n      <td>0.523</td>\n      <td>1</td>\n      <td>-6.390</td>\n      <td>1</td>\n      <td>0.2690</td>\n      <td>0.00365</td>\n      <td>0.000000</td>\n      <td>0.105</td>\n      <td>0.278</td>\n      <td>130.014</td>\n      <td>162636</td>\n      <td>4</td>\n      <td>jojo</td>\n    </tr>\n    <tr>\n      <th>6</th>\n      <td>Otoboke Beaver</td>\n      <td>Leave me alone! No, stay with me!</td>\n      <td>0al4YLXuKajNIiJ1IXi9JL</td>\n      <td>0.321</td>\n      <td>0.973</td>\n      <td>9</td>\n      <td>-1.191</td>\n      <td>1</td>\n      <td>0.1540</td>\n      <td>0.00751</td>\n      <td>0.684000</td>\n      <td>0.086</td>\n      <td>0.574</td>\n      <td>132.201</td>\n      <td>101840</td>\n      <td>4</td>\n      <td>jojo</td>\n    </tr>\n    <tr>\n      <th>7</th>\n      <td>Flo Milli</td>\n      <td>Like That Bitch</td>\n      <td>7zoZd2MuTaQEdF1rlq6Vv1</td>\n      <td>0.782</td>\n      <td>0.844</td>\n      <td>10</td>\n      <td>-4.142</td>\n      <td>0</td>\n      <td>0.2300</td>\n      <td>0.10700</td>\n      <td>0.000001</td>\n      <td>0.295</td>\n      <td>0.760</td>\n      <td>77.435</td>\n      <td>203044</td>\n      <td>4</td>\n      <td>jojo</td>\n    </tr>\n    <tr>\n      <th>8</th>\n      <td>Tyler, The Creator</td>\n      <td>PartyIsntOver/Campfire/Bimmer (feat. Frank Oce...</td>\n      <td>04QTBqa3IA4ZAKEuqRPzEH</td>\n      <td>0.443</td>\n      <td>0.576</td>\n      <td>1</td>\n      <td>-8.695</td>\n      <td>0</td>\n      <td>0.2010</td>\n      <td>0.07090</td>\n      <td>0.019700</td>\n      <td>0.410</td>\n      <td>0.127</td>\n      <td>151.835</td>\n      <td>438493</td>\n      <td>4</td>\n      <td>jojo</td>\n    </tr>\n    <tr>\n      <th>9</th>\n      <td>Lorde</td>\n      <td>Buzzcut Season</td>\n      <td>51QEyJI5M7uyd8DOh9tqQY</td>\n      <td>0.733</td>\n      <td>0.620</td>\n      <td>1</td>\n      <td>-10.525</td>\n      <td>1</td>\n      <td>0.0750</td>\n      <td>0.60600</td>\n      <td>0.305000</td>\n      <td>0.117</td>\n      <td>0.247</td>\n      <td>111.039</td>\n      <td>246755</td>\n      <td>4</td>\n      <td>jojo</td>\n    </tr>\n    <tr>\n      <th>10</th>\n      <td>Vince Staples</td>\n      <td>So What? - Episode 01</td>\n      <td>2JRo1DJhNhZWs1TzrPNOSZ</td>\n      <td>0.854</td>\n      <td>0.844</td>\n      <td>2</td>\n      <td>-5.908</td>\n      <td>1</td>\n      <td>0.0519</td>\n      <td>0.00651</td>\n      <td>0.000005</td>\n      <td>0.186</td>\n      <td>0.832</td>\n      <td>146.041</td>\n      <td>125149</td>\n      <td>4</td>\n      <td>jojo</td>\n    </tr>\n  </tbody>\n</table>\n</div>"
     },
     "execution_count": 3,
     "metadata": {},
     "output_type": "execute_result"
    }
   ],
   "source": [
    "master_library_table = pd.read_csv(REPO_ROOT / 'data/spotify/group/group_mutually_exclusive_library_contents.csv', index_col=0)\n",
    "master_library_table.head(10)"
   ],
   "metadata": {
    "collapsed": false
   }
  },
  {
   "cell_type": "markdown",
   "source": [
    "## Train-Test Split"
   ],
   "metadata": {
    "collapsed": false
   }
  },
  {
   "cell_type": "code",
   "execution_count": 12,
   "outputs": [
    {
     "data": {
      "text/plain": "              artist                                              track  \\\n835       The Weeknd                                     Scared To Live   \n183         cupcakKe                                           Garfield   \n1143            Cabu                                              Crazy   \n1065      Rich Brian                             Introvert (feat. Joji)   \n1257       BLACKPINK                                          Typa Girl   \n427      Death Grips                                       Hustle Bones   \n1494    Mickey Valen                                     Move That Body   \n842   Abhi The Nomad                                       Sex n' Drugs   \n1050         Mustard  Baguettes in the Face (feat. NAV, Playboi Cart...   \n1037     khai dreams                                        Lost in You   \n\n                         uri  danceability  energy  key  loudness  mode  \\\n835   4BGZF4oLbTL0pWm7C18pbv         0.504   0.498    0    -8.240     1   \n183   3WRiWRkolTkYHKqMGsYsOT         0.872   0.835    6    -6.174     0   \n1143  0CbgB2e5ItzZOA1yZA8Xnt         0.794   0.603    8   -11.116     1   \n1065  3qbqWUDl9j09PeBaQ6CZgr         0.836   0.686    1    -4.673     1   \n1257  0L8LOav65XwLjCLS11gNPD         0.915   0.621    7    -6.519     1   \n427   5PXyH5bb5fbVfO8LjByhBb         0.600   0.982    4    -2.996     0   \n1494  0a0TiZm7hjmgyY9i1sWm3Z         0.669   0.668    4    -5.553     1   \n842   0G2wimhVoDYXbQ6csDxtSf         0.831   0.320    7    -7.916     1   \n1050  2zjGJ0dChMR0KxBZS15aqo         0.883   0.525    2    -8.054     0   \n1037  2itR8VHeTVKInnMPec8mj8         0.771   0.607    5   -12.020     0   \n\n      speechiness  acousticness  instrumentalness  liveness  valence    tempo  \\\n835        0.0499        0.1310          0.000000    0.0929   0.1960   87.221   \n183        0.1100        0.2320          0.000014    0.0869   0.6240   99.978   \n1143       0.0724        0.1820          0.063500    0.1090   0.0353  107.992   \n1065       0.0413        0.1400          0.002310    0.0681   0.6320  110.029   \n1257       0.1000        0.0745          0.000000    0.6280   0.5270  131.984   \n427        0.2010        0.1040          0.000000    0.3430   0.2770  110.015   \n1494       0.2070        0.2940          0.000000    0.1830   0.4830   77.493   \n842        0.1430        0.2990          0.000000    0.0757   0.3190   80.935   \n1050       0.0633        0.1890          0.000000    0.0971   0.3120   99.978   \n1037       0.1130        0.3340          0.000000    0.1220   0.7900   90.035   \n\n      duration_ms  time_signature    label  \n835        191307               4     nick  \n183        217560               4     jojo  \n1143       249896               4     nick  \n1065       222259               4  richard  \n1257       179173               4     nick  \n427        192360               4     jojo  \n1494       193742               4  richard  \n842        217778               4     nick  \n1050       174100               4     nick  \n1037       101000               4     nick  ",
      "text/html": "<div>\n<style scoped>\n    .dataframe tbody tr th:only-of-type {\n        vertical-align: middle;\n    }\n\n    .dataframe tbody tr th {\n        vertical-align: top;\n    }\n\n    .dataframe thead th {\n        text-align: right;\n    }\n</style>\n<table border=\"1\" class=\"dataframe\">\n  <thead>\n    <tr style=\"text-align: right;\">\n      <th></th>\n      <th>artist</th>\n      <th>track</th>\n      <th>uri</th>\n      <th>danceability</th>\n      <th>energy</th>\n      <th>key</th>\n      <th>loudness</th>\n      <th>mode</th>\n      <th>speechiness</th>\n      <th>acousticness</th>\n      <th>instrumentalness</th>\n      <th>liveness</th>\n      <th>valence</th>\n      <th>tempo</th>\n      <th>duration_ms</th>\n      <th>time_signature</th>\n      <th>label</th>\n    </tr>\n  </thead>\n  <tbody>\n    <tr>\n      <th>835</th>\n      <td>The Weeknd</td>\n      <td>Scared To Live</td>\n      <td>4BGZF4oLbTL0pWm7C18pbv</td>\n      <td>0.504</td>\n      <td>0.498</td>\n      <td>0</td>\n      <td>-8.240</td>\n      <td>1</td>\n      <td>0.0499</td>\n      <td>0.1310</td>\n      <td>0.000000</td>\n      <td>0.0929</td>\n      <td>0.1960</td>\n      <td>87.221</td>\n      <td>191307</td>\n      <td>4</td>\n      <td>nick</td>\n    </tr>\n    <tr>\n      <th>183</th>\n      <td>cupcakKe</td>\n      <td>Garfield</td>\n      <td>3WRiWRkolTkYHKqMGsYsOT</td>\n      <td>0.872</td>\n      <td>0.835</td>\n      <td>6</td>\n      <td>-6.174</td>\n      <td>0</td>\n      <td>0.1100</td>\n      <td>0.2320</td>\n      <td>0.000014</td>\n      <td>0.0869</td>\n      <td>0.6240</td>\n      <td>99.978</td>\n      <td>217560</td>\n      <td>4</td>\n      <td>jojo</td>\n    </tr>\n    <tr>\n      <th>1143</th>\n      <td>Cabu</td>\n      <td>Crazy</td>\n      <td>0CbgB2e5ItzZOA1yZA8Xnt</td>\n      <td>0.794</td>\n      <td>0.603</td>\n      <td>8</td>\n      <td>-11.116</td>\n      <td>1</td>\n      <td>0.0724</td>\n      <td>0.1820</td>\n      <td>0.063500</td>\n      <td>0.1090</td>\n      <td>0.0353</td>\n      <td>107.992</td>\n      <td>249896</td>\n      <td>4</td>\n      <td>nick</td>\n    </tr>\n    <tr>\n      <th>1065</th>\n      <td>Rich Brian</td>\n      <td>Introvert (feat. Joji)</td>\n      <td>3qbqWUDl9j09PeBaQ6CZgr</td>\n      <td>0.836</td>\n      <td>0.686</td>\n      <td>1</td>\n      <td>-4.673</td>\n      <td>1</td>\n      <td>0.0413</td>\n      <td>0.1400</td>\n      <td>0.002310</td>\n      <td>0.0681</td>\n      <td>0.6320</td>\n      <td>110.029</td>\n      <td>222259</td>\n      <td>4</td>\n      <td>richard</td>\n    </tr>\n    <tr>\n      <th>1257</th>\n      <td>BLACKPINK</td>\n      <td>Typa Girl</td>\n      <td>0L8LOav65XwLjCLS11gNPD</td>\n      <td>0.915</td>\n      <td>0.621</td>\n      <td>7</td>\n      <td>-6.519</td>\n      <td>1</td>\n      <td>0.1000</td>\n      <td>0.0745</td>\n      <td>0.000000</td>\n      <td>0.6280</td>\n      <td>0.5270</td>\n      <td>131.984</td>\n      <td>179173</td>\n      <td>4</td>\n      <td>nick</td>\n    </tr>\n    <tr>\n      <th>427</th>\n      <td>Death Grips</td>\n      <td>Hustle Bones</td>\n      <td>5PXyH5bb5fbVfO8LjByhBb</td>\n      <td>0.600</td>\n      <td>0.982</td>\n      <td>4</td>\n      <td>-2.996</td>\n      <td>0</td>\n      <td>0.2010</td>\n      <td>0.1040</td>\n      <td>0.000000</td>\n      <td>0.3430</td>\n      <td>0.2770</td>\n      <td>110.015</td>\n      <td>192360</td>\n      <td>4</td>\n      <td>jojo</td>\n    </tr>\n    <tr>\n      <th>1494</th>\n      <td>Mickey Valen</td>\n      <td>Move That Body</td>\n      <td>0a0TiZm7hjmgyY9i1sWm3Z</td>\n      <td>0.669</td>\n      <td>0.668</td>\n      <td>4</td>\n      <td>-5.553</td>\n      <td>1</td>\n      <td>0.2070</td>\n      <td>0.2940</td>\n      <td>0.000000</td>\n      <td>0.1830</td>\n      <td>0.4830</td>\n      <td>77.493</td>\n      <td>193742</td>\n      <td>4</td>\n      <td>richard</td>\n    </tr>\n    <tr>\n      <th>842</th>\n      <td>Abhi The Nomad</td>\n      <td>Sex n' Drugs</td>\n      <td>0G2wimhVoDYXbQ6csDxtSf</td>\n      <td>0.831</td>\n      <td>0.320</td>\n      <td>7</td>\n      <td>-7.916</td>\n      <td>1</td>\n      <td>0.1430</td>\n      <td>0.2990</td>\n      <td>0.000000</td>\n      <td>0.0757</td>\n      <td>0.3190</td>\n      <td>80.935</td>\n      <td>217778</td>\n      <td>4</td>\n      <td>nick</td>\n    </tr>\n    <tr>\n      <th>1050</th>\n      <td>Mustard</td>\n      <td>Baguettes in the Face (feat. NAV, Playboi Cart...</td>\n      <td>2zjGJ0dChMR0KxBZS15aqo</td>\n      <td>0.883</td>\n      <td>0.525</td>\n      <td>2</td>\n      <td>-8.054</td>\n      <td>0</td>\n      <td>0.0633</td>\n      <td>0.1890</td>\n      <td>0.000000</td>\n      <td>0.0971</td>\n      <td>0.3120</td>\n      <td>99.978</td>\n      <td>174100</td>\n      <td>4</td>\n      <td>nick</td>\n    </tr>\n    <tr>\n      <th>1037</th>\n      <td>khai dreams</td>\n      <td>Lost in You</td>\n      <td>2itR8VHeTVKInnMPec8mj8</td>\n      <td>0.771</td>\n      <td>0.607</td>\n      <td>5</td>\n      <td>-12.020</td>\n      <td>0</td>\n      <td>0.1130</td>\n      <td>0.3340</td>\n      <td>0.000000</td>\n      <td>0.1220</td>\n      <td>0.7900</td>\n      <td>90.035</td>\n      <td>101000</td>\n      <td>4</td>\n      <td>nick</td>\n    </tr>\n  </tbody>\n</table>\n</div>"
     },
     "execution_count": 12,
     "metadata": {},
     "output_type": "execute_result"
    }
   ],
   "source": [
    "library_train, library_test = train_test_split(master_library_table, test_size=.2, random_state=0)\n",
    "library_train.head(10)"
   ],
   "metadata": {
    "collapsed": false
   }
  },
  {
   "cell_type": "markdown",
   "source": [
    "## Encoding Categorical Features and Scaling Continuous Features"
   ],
   "metadata": {
    "collapsed": false
   }
  },
  {
   "cell_type": "markdown",
   "source": [
    "### Transforming Training Data and Getting Transformers"
   ],
   "metadata": {
    "collapsed": false
   }
  },
  {
   "cell_type": "code",
   "execution_count": 13,
   "outputs": [
    {
     "data": {
      "text/plain": "                                artist  \\\nuri                                      \n4BGZF4oLbTL0pWm7C18pbv      The Weeknd   \n3WRiWRkolTkYHKqMGsYsOT        cupcakKe   \n0CbgB2e5ItzZOA1yZA8Xnt            Cabu   \n3qbqWUDl9j09PeBaQ6CZgr      Rich Brian   \n0L8LOav65XwLjCLS11gNPD       BLACKPINK   \n5PXyH5bb5fbVfO8LjByhBb     Death Grips   \n0a0TiZm7hjmgyY9i1sWm3Z    Mickey Valen   \n0G2wimhVoDYXbQ6csDxtSf  Abhi The Nomad   \n2zjGJ0dChMR0KxBZS15aqo         Mustard   \n2itR8VHeTVKInnMPec8mj8     khai dreams   \n\n                                                                    track  \\\nuri                                                                         \n4BGZF4oLbTL0pWm7C18pbv                                     Scared To Live   \n3WRiWRkolTkYHKqMGsYsOT                                           Garfield   \n0CbgB2e5ItzZOA1yZA8Xnt                                              Crazy   \n3qbqWUDl9j09PeBaQ6CZgr                             Introvert (feat. Joji)   \n0L8LOav65XwLjCLS11gNPD                                          Typa Girl   \n5PXyH5bb5fbVfO8LjByhBb                                       Hustle Bones   \n0a0TiZm7hjmgyY9i1sWm3Z                                     Move That Body   \n0G2wimhVoDYXbQ6csDxtSf                                       Sex n' Drugs   \n2zjGJ0dChMR0KxBZS15aqo  Baguettes in the Face (feat. NAV, Playboi Cart...   \n2itR8VHeTVKInnMPec8mj8                                        Lost in You   \n\n                        danceability    energy  loudness  speechiness  \\\nuri                                                                     \n4BGZF4oLbTL0pWm7C18pbv      0.413284  0.440223  0.615274     0.030664   \n3WRiWRkolTkYHKqMGsYsOT      0.865929  0.816760  0.717531     0.102934   \n0CbgB2e5ItzZOA1yZA8Xnt      0.769988  0.557542  0.472926     0.057720   \n3qbqWUDl9j09PeBaQ6CZgr      0.821648  0.650279  0.791823     0.020322   \n0L8LOav65XwLjCLS11gNPD      0.918819  0.577654  0.700455     0.090909   \n5PXyH5bb5fbVfO8LjByhBb      0.531365  0.981006  0.874827     0.212362   \n0a0TiZm7hjmgyY9i1sWm3Z      0.616236  0.630168  0.748268     0.219577   \n0G2wimhVoDYXbQ6csDxtSf      0.815498  0.241341  0.631311     0.142617   \n2zjGJ0dChMR0KxBZS15aqo      0.879459  0.470391  0.624480     0.046777   \n2itR8VHeTVKInnMPec8mj8      0.741697  0.562011  0.428183     0.106542   \n\n                        acousticness  instrumentalness  liveness   valence  \\\nuri                                                                          \n4BGZF4oLbTL0pWm7C18pbv      0.133805          0.000000  0.080971  0.174273   \n3WRiWRkolTkYHKqMGsYsOT      0.236972          0.000014  0.074001  0.628529   \n0CbgB2e5ItzZOA1yZA8Xnt      0.185900          0.066146  0.099675  0.003715   \n3qbqWUDl9j09PeBaQ6CZgr      0.142998          0.002406  0.052161  0.637020   \n0L8LOav65XwLjCLS11gNPD      0.076093          0.000000  0.702602  0.525578   \n5PXyH5bb5fbVfO8LjByhBb      0.106226          0.000000  0.371515  0.260242   \n0a0TiZm7hjmgyY9i1sWm3Z      0.300303          0.000000  0.185641  0.478879   \n0G2wimhVoDYXbQ6csDxtSf      0.305410          0.000000  0.060990  0.304819   \n2zjGJ0dChMR0KxBZS15aqo      0.193050          0.000000  0.085850  0.297389   \n2itR8VHeTVKInnMPec8mj8      0.341161          0.000000  0.114777  0.804712   \n\n                        ...  key_8  key_9 key_10  key_11  mode_0  mode_1  \\\nuri                     ...                                                \n4BGZF4oLbTL0pWm7C18pbv  ...    0.0    0.0    0.0     0.0     0.0     1.0   \n3WRiWRkolTkYHKqMGsYsOT  ...    0.0    0.0    0.0     0.0     1.0     0.0   \n0CbgB2e5ItzZOA1yZA8Xnt  ...    1.0    0.0    0.0     0.0     0.0     1.0   \n3qbqWUDl9j09PeBaQ6CZgr  ...    0.0    0.0    0.0     0.0     0.0     1.0   \n0L8LOav65XwLjCLS11gNPD  ...    0.0    0.0    0.0     0.0     0.0     1.0   \n5PXyH5bb5fbVfO8LjByhBb  ...    0.0    0.0    0.0     0.0     1.0     0.0   \n0a0TiZm7hjmgyY9i1sWm3Z  ...    0.0    0.0    0.0     0.0     0.0     1.0   \n0G2wimhVoDYXbQ6csDxtSf  ...    0.0    0.0    0.0     0.0     0.0     1.0   \n2zjGJ0dChMR0KxBZS15aqo  ...    0.0    0.0    0.0     0.0     1.0     0.0   \n2itR8VHeTVKInnMPec8mj8  ...    0.0    0.0    0.0     0.0     1.0     0.0   \n\n                        time_signature_1  time_signature_3  time_signature_4  \\\nuri                                                                            \n4BGZF4oLbTL0pWm7C18pbv               0.0               0.0               1.0   \n3WRiWRkolTkYHKqMGsYsOT               0.0               0.0               1.0   \n0CbgB2e5ItzZOA1yZA8Xnt               0.0               0.0               1.0   \n3qbqWUDl9j09PeBaQ6CZgr               0.0               0.0               1.0   \n0L8LOav65XwLjCLS11gNPD               0.0               0.0               1.0   \n5PXyH5bb5fbVfO8LjByhBb               0.0               0.0               1.0   \n0a0TiZm7hjmgyY9i1sWm3Z               0.0               0.0               1.0   \n0G2wimhVoDYXbQ6csDxtSf               0.0               0.0               1.0   \n2zjGJ0dChMR0KxBZS15aqo               0.0               0.0               1.0   \n2itR8VHeTVKInnMPec8mj8               0.0               0.0               1.0   \n\n                        time_signature_5  \nuri                                       \n4BGZF4oLbTL0pWm7C18pbv               0.0  \n3WRiWRkolTkYHKqMGsYsOT               0.0  \n0CbgB2e5ItzZOA1yZA8Xnt               0.0  \n3qbqWUDl9j09PeBaQ6CZgr               0.0  \n0L8LOav65XwLjCLS11gNPD               0.0  \n5PXyH5bb5fbVfO8LjByhBb               0.0  \n0a0TiZm7hjmgyY9i1sWm3Z               0.0  \n0G2wimhVoDYXbQ6csDxtSf               0.0  \n2zjGJ0dChMR0KxBZS15aqo               0.0  \n2itR8VHeTVKInnMPec8mj8               0.0  \n\n[10 rows x 31 columns]",
      "text/html": "<div>\n<style scoped>\n    .dataframe tbody tr th:only-of-type {\n        vertical-align: middle;\n    }\n\n    .dataframe tbody tr th {\n        vertical-align: top;\n    }\n\n    .dataframe thead th {\n        text-align: right;\n    }\n</style>\n<table border=\"1\" class=\"dataframe\">\n  <thead>\n    <tr style=\"text-align: right;\">\n      <th></th>\n      <th>artist</th>\n      <th>track</th>\n      <th>danceability</th>\n      <th>energy</th>\n      <th>loudness</th>\n      <th>speechiness</th>\n      <th>acousticness</th>\n      <th>instrumentalness</th>\n      <th>liveness</th>\n      <th>valence</th>\n      <th>...</th>\n      <th>key_8</th>\n      <th>key_9</th>\n      <th>key_10</th>\n      <th>key_11</th>\n      <th>mode_0</th>\n      <th>mode_1</th>\n      <th>time_signature_1</th>\n      <th>time_signature_3</th>\n      <th>time_signature_4</th>\n      <th>time_signature_5</th>\n    </tr>\n    <tr>\n      <th>uri</th>\n      <th></th>\n      <th></th>\n      <th></th>\n      <th></th>\n      <th></th>\n      <th></th>\n      <th></th>\n      <th></th>\n      <th></th>\n      <th></th>\n      <th></th>\n      <th></th>\n      <th></th>\n      <th></th>\n      <th></th>\n      <th></th>\n      <th></th>\n      <th></th>\n      <th></th>\n      <th></th>\n      <th></th>\n    </tr>\n  </thead>\n  <tbody>\n    <tr>\n      <th>4BGZF4oLbTL0pWm7C18pbv</th>\n      <td>The Weeknd</td>\n      <td>Scared To Live</td>\n      <td>0.413284</td>\n      <td>0.440223</td>\n      <td>0.615274</td>\n      <td>0.030664</td>\n      <td>0.133805</td>\n      <td>0.000000</td>\n      <td>0.080971</td>\n      <td>0.174273</td>\n      <td>...</td>\n      <td>0.0</td>\n      <td>0.0</td>\n      <td>0.0</td>\n      <td>0.0</td>\n      <td>0.0</td>\n      <td>1.0</td>\n      <td>0.0</td>\n      <td>0.0</td>\n      <td>1.0</td>\n      <td>0.0</td>\n    </tr>\n    <tr>\n      <th>3WRiWRkolTkYHKqMGsYsOT</th>\n      <td>cupcakKe</td>\n      <td>Garfield</td>\n      <td>0.865929</td>\n      <td>0.816760</td>\n      <td>0.717531</td>\n      <td>0.102934</td>\n      <td>0.236972</td>\n      <td>0.000014</td>\n      <td>0.074001</td>\n      <td>0.628529</td>\n      <td>...</td>\n      <td>0.0</td>\n      <td>0.0</td>\n      <td>0.0</td>\n      <td>0.0</td>\n      <td>1.0</td>\n      <td>0.0</td>\n      <td>0.0</td>\n      <td>0.0</td>\n      <td>1.0</td>\n      <td>0.0</td>\n    </tr>\n    <tr>\n      <th>0CbgB2e5ItzZOA1yZA8Xnt</th>\n      <td>Cabu</td>\n      <td>Crazy</td>\n      <td>0.769988</td>\n      <td>0.557542</td>\n      <td>0.472926</td>\n      <td>0.057720</td>\n      <td>0.185900</td>\n      <td>0.066146</td>\n      <td>0.099675</td>\n      <td>0.003715</td>\n      <td>...</td>\n      <td>1.0</td>\n      <td>0.0</td>\n      <td>0.0</td>\n      <td>0.0</td>\n      <td>0.0</td>\n      <td>1.0</td>\n      <td>0.0</td>\n      <td>0.0</td>\n      <td>1.0</td>\n      <td>0.0</td>\n    </tr>\n    <tr>\n      <th>3qbqWUDl9j09PeBaQ6CZgr</th>\n      <td>Rich Brian</td>\n      <td>Introvert (feat. Joji)</td>\n      <td>0.821648</td>\n      <td>0.650279</td>\n      <td>0.791823</td>\n      <td>0.020322</td>\n      <td>0.142998</td>\n      <td>0.002406</td>\n      <td>0.052161</td>\n      <td>0.637020</td>\n      <td>...</td>\n      <td>0.0</td>\n      <td>0.0</td>\n      <td>0.0</td>\n      <td>0.0</td>\n      <td>0.0</td>\n      <td>1.0</td>\n      <td>0.0</td>\n      <td>0.0</td>\n      <td>1.0</td>\n      <td>0.0</td>\n    </tr>\n    <tr>\n      <th>0L8LOav65XwLjCLS11gNPD</th>\n      <td>BLACKPINK</td>\n      <td>Typa Girl</td>\n      <td>0.918819</td>\n      <td>0.577654</td>\n      <td>0.700455</td>\n      <td>0.090909</td>\n      <td>0.076093</td>\n      <td>0.000000</td>\n      <td>0.702602</td>\n      <td>0.525578</td>\n      <td>...</td>\n      <td>0.0</td>\n      <td>0.0</td>\n      <td>0.0</td>\n      <td>0.0</td>\n      <td>0.0</td>\n      <td>1.0</td>\n      <td>0.0</td>\n      <td>0.0</td>\n      <td>1.0</td>\n      <td>0.0</td>\n    </tr>\n    <tr>\n      <th>5PXyH5bb5fbVfO8LjByhBb</th>\n      <td>Death Grips</td>\n      <td>Hustle Bones</td>\n      <td>0.531365</td>\n      <td>0.981006</td>\n      <td>0.874827</td>\n      <td>0.212362</td>\n      <td>0.106226</td>\n      <td>0.000000</td>\n      <td>0.371515</td>\n      <td>0.260242</td>\n      <td>...</td>\n      <td>0.0</td>\n      <td>0.0</td>\n      <td>0.0</td>\n      <td>0.0</td>\n      <td>1.0</td>\n      <td>0.0</td>\n      <td>0.0</td>\n      <td>0.0</td>\n      <td>1.0</td>\n      <td>0.0</td>\n    </tr>\n    <tr>\n      <th>0a0TiZm7hjmgyY9i1sWm3Z</th>\n      <td>Mickey Valen</td>\n      <td>Move That Body</td>\n      <td>0.616236</td>\n      <td>0.630168</td>\n      <td>0.748268</td>\n      <td>0.219577</td>\n      <td>0.300303</td>\n      <td>0.000000</td>\n      <td>0.185641</td>\n      <td>0.478879</td>\n      <td>...</td>\n      <td>0.0</td>\n      <td>0.0</td>\n      <td>0.0</td>\n      <td>0.0</td>\n      <td>0.0</td>\n      <td>1.0</td>\n      <td>0.0</td>\n      <td>0.0</td>\n      <td>1.0</td>\n      <td>0.0</td>\n    </tr>\n    <tr>\n      <th>0G2wimhVoDYXbQ6csDxtSf</th>\n      <td>Abhi The Nomad</td>\n      <td>Sex n' Drugs</td>\n      <td>0.815498</td>\n      <td>0.241341</td>\n      <td>0.631311</td>\n      <td>0.142617</td>\n      <td>0.305410</td>\n      <td>0.000000</td>\n      <td>0.060990</td>\n      <td>0.304819</td>\n      <td>...</td>\n      <td>0.0</td>\n      <td>0.0</td>\n      <td>0.0</td>\n      <td>0.0</td>\n      <td>0.0</td>\n      <td>1.0</td>\n      <td>0.0</td>\n      <td>0.0</td>\n      <td>1.0</td>\n      <td>0.0</td>\n    </tr>\n    <tr>\n      <th>2zjGJ0dChMR0KxBZS15aqo</th>\n      <td>Mustard</td>\n      <td>Baguettes in the Face (feat. NAV, Playboi Cart...</td>\n      <td>0.879459</td>\n      <td>0.470391</td>\n      <td>0.624480</td>\n      <td>0.046777</td>\n      <td>0.193050</td>\n      <td>0.000000</td>\n      <td>0.085850</td>\n      <td>0.297389</td>\n      <td>...</td>\n      <td>0.0</td>\n      <td>0.0</td>\n      <td>0.0</td>\n      <td>0.0</td>\n      <td>1.0</td>\n      <td>0.0</td>\n      <td>0.0</td>\n      <td>0.0</td>\n      <td>1.0</td>\n      <td>0.0</td>\n    </tr>\n    <tr>\n      <th>2itR8VHeTVKInnMPec8mj8</th>\n      <td>khai dreams</td>\n      <td>Lost in You</td>\n      <td>0.741697</td>\n      <td>0.562011</td>\n      <td>0.428183</td>\n      <td>0.106542</td>\n      <td>0.341161</td>\n      <td>0.000000</td>\n      <td>0.114777</td>\n      <td>0.804712</td>\n      <td>...</td>\n      <td>0.0</td>\n      <td>0.0</td>\n      <td>0.0</td>\n      <td>0.0</td>\n      <td>1.0</td>\n      <td>0.0</td>\n      <td>0.0</td>\n      <td>0.0</td>\n      <td>1.0</td>\n      <td>0.0</td>\n    </tr>\n  </tbody>\n</table>\n<p>10 rows × 31 columns</p>\n</div>"
     },
     "execution_count": 13,
     "metadata": {},
     "output_type": "execute_result"
    }
   ],
   "source": [
    "encoded_train_data, transformers = utils.encoding.encode_training_data(library_train)\n",
    "encoded_train_data.head(10)"
   ],
   "metadata": {
    "collapsed": false
   }
  },
  {
   "cell_type": "markdown",
   "source": [
    "### Transforming Testing Data Given Previous Transformers"
   ],
   "metadata": {
    "collapsed": false
   }
  },
  {
   "cell_type": "code",
   "execution_count": 14,
   "outputs": [],
   "source": [
    "encoded_test_data = utils.encoding.encode_dataframe_given_transformers(library_test, transformers)"
   ],
   "metadata": {
    "collapsed": false
   }
  },
  {
   "cell_type": "markdown",
   "source": [
    "## Final Data Cleaning and Saving"
   ],
   "metadata": {
    "collapsed": false
   }
  },
  {
   "cell_type": "code",
   "execution_count": 15,
   "outputs": [],
   "source": [
    "# Move label to the end just to make it look pretty\n",
    "for df in [encoded_train_data, encoded_test_data]:\n",
    "\tdf.insert(len(df.columns) - 1, 'label', df.pop('label'))\n",
    "encoded_test_data = encoded_test_data.set_index(\"uri\")\n",
    "# Saving to file\n",
    "encoded_train_data.to_csv(REPO_ROOT / \"data/spotify/group/mutually_exclusive_train_test/library_train.csv\")\n",
    "encoded_test_data.to_csv(REPO_ROOT / \"data/spotify/group/mutually_exclusive_train_test/library_test.csv\")"
   ],
   "metadata": {
    "collapsed": false
   }
  }
 ],
 "metadata": {
  "kernelspec": {
   "display_name": "Python 3",
   "language": "python",
   "name": "python3"
  },
  "language_info": {
   "codemirror_mode": {
    "name": "ipython",
    "version": 2
   },
   "file_extension": ".py",
   "mimetype": "text/x-python",
   "name": "python",
   "nbconvert_exporter": "python",
   "pygments_lexer": "ipython2",
   "version": "2.7.6"
  }
 },
 "nbformat": 4,
 "nbformat_minor": 0
}
