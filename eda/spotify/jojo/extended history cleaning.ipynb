{
 "cells": [
  {
   "cell_type": "code",
   "execution_count": 12,
   "metadata": {
    "collapsed": true
   },
   "outputs": [],
   "source": [
    "# Imports\n",
    "import pathlib\n",
    "import pandas as pd\n",
    "from aiohttp import ClientSession\n",
    "import asyncio\n",
    "import requests\n",
    "import base64\n",
    "import json\n",
    "\n",
    "import api_setup\n",
    "\n",
    "CWD = pathlib.Path.cwd()\n",
    "REPO_ROOT = CWD.parent.parent.parent\n",
    "DATA_DIR = REPO_ROOT / \"data\"\n",
    "APP = 'spotify'\n",
    "NAME = 'jojo'\n",
    "SUBDIRS = 'my_spotify_data/MyData/extended_history'\n",
    "USER_DATA_DIR = DATA_DIR / APP / NAME / SUBDIRS\n"
   ]
  },
  {
   "cell_type": "code",
   "execution_count": 13,
   "outputs": [],
   "source": [
    "dfs = []\n",
    "for file in USER_DATA_DIR.iterdir():\n",
    "    data = pd.read_json(file)\n",
    "    dfs.append(data)\n",
    "\n",
    "extended_history = pd.concat(dfs, ignore_index=True)"
   ],
   "metadata": {
    "collapsed": false
   }
  },
  {
   "cell_type": "code",
   "execution_count": 14,
   "outputs": [],
   "source": [
    "extended_history.dropna(axis=0, subset=[\"spotify_track_uri\"], inplace=True)\n",
    "artist_track_uri = extended_history[[\"master_metadata_track_name\", \"master_metadata_album_artist_name\", \"spotify_track_uri\"]]\n",
    "artist_track_uri = artist_track_uri.drop_duplicates()"
   ],
   "metadata": {
    "collapsed": false
   }
  },
  {
   "cell_type": "code",
   "execution_count": 15,
   "outputs": [],
   "source": [
    "with open(\"artist_uris_extended.json\", \"w\") as f:\n",
    "\tf.write(json.dumps(artist_track_uri.to_json(indent=1)))"
   ],
   "metadata": {
    "collapsed": false
   }
  },
  {
   "cell_type": "code",
   "execution_count": 16,
   "outputs": [],
   "source": [
    "uris = artist_track_uri.spotify_track_uri.values\n",
    "chunk1 = (0, 8000)\n",
    "chunk2 = (8000, 16000)\n",
    "chunk3 = (16000, -1)\n",
    "\n",
    "# API Auth\n",
    "env_vars = api_setup.parse_api_kvs(REPO_ROOT / \"api-keys\")\n",
    "\n",
    "async def get_audio_features(session: ClientSession, uri: str) -> dict:\n",
    "\t# Trim the input string - we don't want the 'spotify:track:` part\n",
    "\turi = uri[14:]\n",
    "\tendpoint = f\"https://api.spotify.com/v1/audio-features/{uri}\"\n",
    "\n",
    "\tasync with session.get(endpoint) as response:\n",
    "\t\tresponse = await(response.json())\n",
    "\t\treturn uri, response\n",
    "\n",
    "async def main(startindex: int=0, endindex: int=-1):\n",
    "\tcreds = f\"{env_vars['client_id']}:{env_vars['client_secret']}\"\n",
    "\tcreds_b64 = base64.b64encode(creds.encode())\n",
    "\theaders= {\"Authorization\": f\"Basic {creds_b64.decode()}\"}\n",
    "\tdata= {\"grant_type\": \"client_credentials\"}\n",
    "\ttoken = requests.post(\"https://accounts.spotify.com/api/token\", headers=headers, data=data)\n",
    "\ttoken = token.json()['access_token']\n",
    "\theaders = {\"Accept\": \"application/json\", \"Content-Type\": \"application/json\", \"Authorization\": f\"Bearer {token}\"}\n",
    "\tasync with ClientSession(headers=headers) as session:\n",
    "\t\tbatch_uris = uris[startindex:endindex]\n",
    "\t\ttasks = []\n",
    "\t\tfor uri in batch_uris:\n",
    "\t\t\ttask = asyncio.ensure_future(get_audio_features(session, uri))\n",
    "\t\t\ttasks.append(task)\n",
    "\n",
    "\t\tfeatures = await(asyncio.gather(*tasks))\n",
    "\treturn features"
   ],
   "metadata": {
    "collapsed": false
   }
  },
  {
   "cell_type": "code",
   "execution_count": 17,
   "outputs": [],
   "source": [
    "features = await(main(*chunk1))\n"
   ],
   "metadata": {
    "collapsed": false
   }
  },
  {
   "cell_type": "code",
   "execution_count": 19,
   "outputs": [],
   "source": [
    "features = [feature[1] for feature in features]\n",
    "with open(\"features_0_eh.json\", \"w\") as f:\n",
    "\tjson.dump(features, f)"
   ],
   "metadata": {
    "collapsed": false
   }
  },
  {
   "cell_type": "code",
   "execution_count": null,
   "outputs": [],
   "source": [
    "features = await(main(*chunk2))\n",
    "features = [feature[1] for feature in features]\n",
    "with open(\"features_0_eh.json\", \"w\") as f:\n",
    "\tjson.dump(features, f)"
   ],
   "metadata": {
    "collapsed": false
   }
  },
  {
   "cell_type": "code",
   "execution_count": null,
   "outputs": [],
   "source": [
    "features = await(main(*chunk3))\n",
    "features = [feature[1] for feature in features]\n",
    "with open(\"features_0_eh.json\", \"w\") as f:\n",
    "\tjson.dump(features, f)"
   ],
   "metadata": {
    "collapsed": false
   }
  }
 ],
 "metadata": {
  "kernelspec": {
   "display_name": "Python 3",
   "language": "python",
   "name": "python3"
  },
  "language_info": {
   "codemirror_mode": {
    "name": "ipython",
    "version": 2
   },
   "file_extension": ".py",
   "mimetype": "text/x-python",
   "name": "python",
   "nbconvert_exporter": "python",
   "pygments_lexer": "ipython2",
   "version": "2.7.6"
  }
 },
 "nbformat": 4,
 "nbformat_minor": 0
}
